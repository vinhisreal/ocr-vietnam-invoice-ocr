{
 "cells": [
  {
   "cell_type": "code",
   "execution_count": 1,
   "metadata": {
    "_cell_guid": "b2b559a3-5282-4934-8da7-f8d6a2832231",
    "_uuid": "1990d0b7-7d6a-4019-ab8a-b6aef1cb7861",
    "collapsed": false,
    "execution": {
     "iopub.execute_input": "2025-05-04T15:48:00.727700Z",
     "iopub.status.busy": "2025-05-04T15:48:00.727435Z",
     "iopub.status.idle": "2025-05-04T15:48:00.732238Z",
     "shell.execute_reply": "2025-05-04T15:48:00.731629Z",
     "shell.execute_reply.started": "2025-05-04T15:48:00.727680Z"
    },
    "jupyter": {
     "outputs_hidden": false
    },
    "trusted": true
   },
   "outputs": [],
   "source": [
    "# pip install -U albumentations\n",
    "# Đây là code Recognize với CNN + Transformer Decoder"
   ]
  },
  {
   "cell_type": "code",
   "execution_count": 2,
   "metadata": {
    "_cell_guid": "dd703517-731d-4418-8d02-85fa6bd8b1f0",
    "_uuid": "c8b83b83-2a1e-4083-b3fb-68e1dbc25f9d",
    "collapsed": false,
    "execution": {
     "iopub.execute_input": "2025-05-04T15:48:00.734016Z",
     "iopub.status.busy": "2025-05-04T15:48:00.733771Z",
     "iopub.status.idle": "2025-05-04T15:48:15.847380Z",
     "shell.execute_reply": "2025-05-04T15:48:15.846593Z",
     "shell.execute_reply.started": "2025-05-04T15:48:00.733990Z"
    },
    "jupyter": {
     "outputs_hidden": false
    },
    "trusted": true
   },
   "outputs": [
    {
     "name": "stdout",
     "output_type": "stream",
     "text": [
      "Đang sử dụng thiết bị: cuda\n"
     ]
    },
    {
     "name": "stderr",
     "output_type": "stream",
     "text": [
      "/usr/local/lib/python3.11/dist-packages/albumentations/__init__.py:28: UserWarning: A new version of Albumentations is available: '2.0.6' (you have '2.0.4'). Upgrade using: pip install -U albumentations. To disable automatic update checks, set the environment variable NO_ALBUMENTATIONS_UPDATE to 1.\n",
      "  check_for_updates()\n"
     ]
    }
   ],
   "source": [
    "import os\n",
    "import cv2\n",
    "import math\n",
    "import numpy as np\n",
    "import random\n",
    "import time\n",
    "from pathlib import Path\n",
    "import torch\n",
    "import torch.nn as nn\n",
    "import torch.nn.functional as F\n",
    "from torch.utils.data import Dataset, DataLoader\n",
    "from torch.cuda.amp import autocast, GradScaler\n",
    "import torchvision.transforms as transforms\n",
    "from torch.nn import TransformerEncoder, TransformerEncoderLayer\n",
    "from torch.nn import TransformerDecoder, TransformerDecoderLayer\n",
    "import albumentations as A\n",
    "from albumentations.pytorch import ToTensorV2\n",
    "from tqdm.auto import tqdm\n",
    "\n",
    "def seed_everything(seed=42):\n",
    "    random.seed(seed)\n",
    "    os.environ['PYTHONHASHSEED'] = str(seed)\n",
    "    np.random.seed(seed)\n",
    "    torch.manual_seed(seed)\n",
    "    torch.cuda.manual_seed(seed)\n",
    "    torch.backends.cudnn.deterministic = True\n",
    "    torch.backends.cudnn.benchmark = False\n",
    "\n",
    "seed_everything(42)\n",
    "\n",
    "device = torch.device('cuda' if torch.cuda.is_available() else 'cpu')\n",
    "print(f\"Đang sử dụng thiết bị: {device}\")"
   ]
  },
  {
   "cell_type": "code",
   "execution_count": null,
   "metadata": {
    "_cell_guid": "72f835af-ab35-47c2-9321-bd4299574ad1",
    "_uuid": "d1a379c9-5203-4396-8406-8bcfcb212344",
    "collapsed": false,
    "execution": {
     "iopub.execute_input": "2025-05-04T15:48:15.848841Z",
     "iopub.status.busy": "2025-05-04T15:48:15.848392Z",
     "iopub.status.idle": "2025-05-04T15:48:15.861176Z",
     "shell.execute_reply": "2025-05-04T15:48:15.860487Z",
     "shell.execute_reply.started": "2025-05-04T15:48:15.848811Z"
    },
    "jupyter": {
     "outputs_hidden": false
    },
    "trusted": true
   },
   "outputs": [],
   "source": [
    "#TFMdecoder file\n",
    "class SimpleTokenizer:\n",
    "    def __init__(self):\n",
    "        self.special_tokens = [\"<PAD>\", \"<SOS>\", \"<EOS>\", \"<UNK>\"]\n",
    "        self.pad_token_idx = 0  # <PAD>\n",
    "        self.sos_token_idx = 1  # <SOS>\n",
    "        self.eos_token_idx = 2  # <EOS>\n",
    "        self.unk_token_idx = 3  # <UNK>\n",
    "        \n",
    "        chars = \"abcdefghijklmnopqrstuvwxyzABCDEFGHIJKLMNOPQRSTUVWXYZ0123456789\"\n",
    "        chars += \"àáảãạăắằẳẵặâấầẩẫậèéẻẽẹêếềểễệìíỉĩịòóỏõọôốồổỗộơớờởỡợùúủũụưứừửữựỳýỷỹỵđ\"\n",
    "        chars += \"ÀÁẢÃẠĂẮẰẲẴẶÂẤẦẨẪẬÈÉẺẼẸÊẾỀỂỄỆÌÍỈĨỊÒÓỎÕỌÔỐỒỔỖỘƠỚỜỞỠỢÙÚỦŨỤƯỨỪỬỮỰỲÝỶỸỴĐ\"\n",
    "        chars += \" .,;:!?()-/\\\\\\\"'[]{}@#$%^&*+=_<>|~`₫$€¥£¢°×÷√≤≥±≠∞≈\"\n",
    "        \n",
    "        self.char_to_idx = {char: idx + len(self.special_tokens) for idx, char in enumerate(chars)}\n",
    "        self.idx_to_char = {idx + len(self.special_tokens): char for idx, char in enumerate(chars)}\n",
    "        \n",
    "        for idx, token in enumerate(self.special_tokens):\n",
    "            self.idx_to_char[idx] = token\n",
    "            self.char_to_idx[token] = idx\n",
    "        \n",
    "        # Kích thước từ điển\n",
    "        self.vocab_size = len(self.char_to_idx)\n",
    "        \n",
    "        print(f\"Kích thước từ điển: {self.vocab_size}\")\n",
    "    \n",
    "    def encode(self, text, max_length=100, add_special_tokens=True):\n",
    "        indices = []\n",
    "        \n",
    "        if add_special_tokens:\n",
    "            indices.append(self.sos_token_idx)\n",
    "        \n",
    "        for char in text:\n",
    "            if char in self.char_to_idx:\n",
    "                indices.append(self.char_to_idx[char])\n",
    "            else:\n",
    "                indices.append(self.unk_token_idx)\n",
    "        \n",
    "        if add_special_tokens:\n",
    "            indices.append(self.eos_token_idx)\n",
    "        \n",
    "        # Padding\n",
    "        if len(indices) < max_length:\n",
    "            indices += [self.pad_token_idx] * (max_length - len(indices))\n",
    "        else:\n",
    "            indices = indices[:max_length]\n",
    "            if add_special_tokens:\n",
    "                indices[-1] = self.eos_token_idx\n",
    "        \n",
    "        return indices\n",
    "    \n",
    "    def decode(self, indices, remove_special_tokens=True):\n",
    "        text = \"\"\n",
    "        \n",
    "        for idx in indices:\n",
    "            if remove_special_tokens and idx in [self.pad_token_idx, self.sos_token_idx, self.eos_token_idx]:\n",
    "                continue\n",
    "            \n",
    "            if idx in self.idx_to_char:\n",
    "                text += self.idx_to_char[idx]\n",
    "            else:\n",
    "                text += self.idx_to_char[self.unk_token_idx]\n",
    "        \n",
    "        return text\n",
    "\n",
    "def preprocess_image(image, adaptive_threshold=False):\n",
    "    if len(image.shape) == 3 and image.shape[2] == 3:\n",
    "        gray = cv2.cvtColor(image, cv2.COLOR_RGB2GRAY)\n",
    "    else:\n",
    "        gray = image\n",
    "    \n",
    "    blurred = cv2.GaussianBlur(gray, (3, 3), 0)\n",
    "    \n",
    "    if adaptive_threshold:\n",
    "        binary = cv2.adaptiveThreshold(\n",
    "            blurred, 255, cv2.ADAPTIVE_THRESH_GAUSSIAN_C, \n",
    "            cv2.THRESH_BINARY, 11, 2\n",
    "        )\n",
    "        result = cv2.cvtColor(binary, cv2.COLOR_GRAY2RGB)\n",
    "    else:\n",
    "        clahe = cv2.createCLAHE(clipLimit=2.0, tileGridSize=(8, 8))\n",
    "        equalized = clahe.apply(blurred)\n",
    "        \n",
    "        result = cv2.cvtColor(equalized, cv2.COLOR_GRAY2RGB)\n",
    "    \n",
    "    return result"
   ]
  },
  {
   "cell_type": "code",
   "execution_count": null,
   "metadata": {
    "_cell_guid": "f1830bfb-d950-4c35-b831-3d33fc9e9d52",
    "_uuid": "9de2bf9a-ee36-43ca-81bd-ea709ff5455a",
    "collapsed": false,
    "execution": {
     "iopub.execute_input": "2025-05-04T15:48:15.862159Z",
     "iopub.status.busy": "2025-05-04T15:48:15.861931Z",
     "iopub.status.idle": "2025-05-04T15:48:15.886072Z",
     "shell.execute_reply": "2025-05-04T15:48:15.885396Z",
     "shell.execute_reply.started": "2025-05-04T15:48:15.862136Z"
    },
    "jupyter": {
     "outputs_hidden": false
    },
    "trusted": true
   },
   "outputs": [],
   "source": [
    "class VietnameseOCRDataset(Dataset):\n",
    "    def __init__(self, images_dir, annotation_file, tokenizer, transform=None, \n",
    "                 preprocess=True, adaptive_threshold=False, max_samples=None,\n",
    "                 max_target_length=100):\n",
    "        self.images_dir = images_dir\n",
    "        self.transform = transform\n",
    "        self.tokenizer = tokenizer\n",
    "        self.preprocess = preprocess\n",
    "        self.adaptive_threshold = adaptive_threshold\n",
    "        self.max_target_length = max_target_length\n",
    "        \n",
    "        with open(annotation_file, 'r', encoding='utf-8') as f:\n",
    "            lines = f.readlines()\n",
    "        \n",
    "        self.samples = []\n",
    "        skipped = 0\n",
    "        \n",
    "        for line in lines:\n",
    "            parts = line.strip().split('\\t')\n",
    "            if len(parts) == 2:\n",
    "                image_name, text = parts\n",
    "                image_path = os.path.join(images_dir, image_name)\n",
    "                if os.path.exists(image_path):\n",
    "                    if len(text.strip()) > 0:\n",
    "                        self.samples.append((image_path, text))\n",
    "                        if max_samples and len(self.samples) >= max_samples:\n",
    "                            break\n",
    "                else:\n",
    "                    skipped += 1\n",
    "        \n",
    "        print(f\"Đã tải {len(self.samples)} mẫu từ {annotation_file}\")\n",
    "        if skipped > 0:\n",
    "            print(f\"Đã bỏ qua {skipped} mẫu do không tìm thấy file ảnh\")\n",
    "    \n",
    "    def __len__(self):\n",
    "        return len(self.samples)\n",
    "    \n",
    "    def __getitem__(self, idx):\n",
    "        image_path, text = self.samples[idx]\n",
    "        \n",
    "        image = cv2.imread(image_path)\n",
    "        if image is None:\n",
    "            print(f\"Lỗi đọc ảnh: {image_path}\")\n",
    "            image = np.zeros((32, 100, 3), dtype=np.uint8)\n",
    "        else:\n",
    "            image = cv2.cvtColor(image, cv2.COLOR_BGR2RGB)\n",
    "            \n",
    "            if self.preprocess:\n",
    "                image = preprocess_image(image, self.adaptive_threshold)\n",
    "        \n",
    "        if self.transform:\n",
    "            augmented = self.transform(image=image)\n",
    "            image = augmented['image']\n",
    "        \n",
    "        target = torch.tensor(self.tokenizer.encode(text, max_length=self.max_target_length), dtype=torch.long)\n",
    "        \n",
    "        target_input = target[:-1]  # Bỏ EOS token ở cuối\n",
    "        target_output = target[1:]  # Bỏ SOS token ở đầu\n",
    "        \n",
    "        return image, target_input, target_output, text\n",
    "\n",
    "def get_ocr_transforms(height=32, width=320, is_train=True):\n",
    "    if is_train:\n",
    "        return A.Compose([\n",
    "            A.Resize(height=height, width=width),\n",
    "            \n",
    "            A.OneOf([\n",
    "                A.RandomBrightnessContrast(brightness_limit=0.2, contrast_limit=0.3, p=0.7),\n",
    "                A.CLAHE(clip_limit=4.0, p=0.3),\n",
    "            ], p=0.5),\n",
    "            \n",
    "            A.ShiftScaleRotate(shift_limit=0.02, scale_limit=0.1, rotate_limit=1, p=0.3),\n",
    "            \n",
    "            A.OneOf([\n",
    "                A.GaussNoise(p=0.3),\n",
    "                A.GaussianBlur(blur_limit=3, p=0.3),\n",
    "            ], p=0.2),\n",
    "            \n",
    "            A.Normalize(mean=[0.485, 0.456, 0.406], std=[0.229, 0.224, 0.225]),\n",
    "            ToTensorV2()\n",
    "        ])\n",
    "    else:\n",
    "        return A.Compose([\n",
    "            A.Resize(height=height, width=width),\n",
    "            A.Normalize(mean=[0.485, 0.456, 0.406], std=[0.229, 0.224, 0.225]),\n",
    "            ToTensorV2()\n",
    "        ])"
   ]
  },
  {
   "cell_type": "code",
   "execution_count": null,
   "metadata": {
    "_cell_guid": "98708c23-ed89-4ab3-97e0-6e5ab0b19be8",
    "_uuid": "6905b517-ce7b-4645-abe8-933c57ba13ae",
    "collapsed": false,
    "execution": {
     "iopub.execute_input": "2025-05-04T15:48:15.887998Z",
     "iopub.status.busy": "2025-05-04T15:48:15.887738Z",
     "iopub.status.idle": "2025-05-04T15:48:15.909813Z",
     "shell.execute_reply": "2025-05-04T15:48:15.909290Z",
     "shell.execute_reply.started": "2025-05-04T15:48:15.887980Z"
    },
    "jupyter": {
     "outputs_hidden": false
    },
    "trusted": true
   },
   "outputs": [],
   "source": [
    "class PositionalEncoding(nn.Module):\n",
    "    def __init__(self, d_model, dropout=0.1, max_len=5000):\n",
    "        super(PositionalEncoding, self).__init__()\n",
    "        self.dropout = nn.Dropout(p=dropout)\n",
    "\n",
    "        pe = torch.zeros(max_len, d_model)\n",
    "        position = torch.arange(0, max_len, dtype=torch.float).unsqueeze(1)\n",
    "        div_term = torch.exp(torch.arange(0, d_model, 2).float() * (-math.log(10000.0) / d_model))\n",
    "        pe[:, 0::2] = torch.sin(position * div_term)\n",
    "        pe[:, 1::2] = torch.cos(position * div_term)\n",
    "        pe = pe.unsqueeze(0)\n",
    "        self.register_buffer('pe', pe)\n",
    "\n",
    "    def forward(self, x):\n",
    "        x = x + self.pe[:, :x.size(1)]\n",
    "        return self.dropout(x)\n",
    "\n",
    "class CNNTransformerDecoder(nn.Module):\n",
    "    def __init__(self, vocab_size, input_channels=3, hidden_dim=256, nhead=4, \n",
    "                 num_encoder_layers=3, num_decoder_layers=3, dim_feedforward=1024, dropout=0.1):\n",
    "        super(CNNTransformerDecoder, self).__init__()\n",
    "        \n",
    "        self.cnn = nn.Sequential(\n",
    "            nn.Conv2d(input_channels, 64, kernel_size=3, stride=1, padding=1),\n",
    "            nn.BatchNorm2d(64),\n",
    "            nn.ReLU(inplace=True),\n",
    "            nn.MaxPool2d(kernel_size=2, stride=2),\n",
    "            \n",
    "            nn.Conv2d(64, 128, kernel_size=3, stride=1, padding=1),\n",
    "            nn.BatchNorm2d(128),\n",
    "            nn.ReLU(inplace=True),\n",
    "            nn.MaxPool2d(kernel_size=2, stride=2),\n",
    "            \n",
    "            nn.Conv2d(128, 256, kernel_size=3, stride=1, padding=1),\n",
    "            nn.BatchNorm2d(256),\n",
    "            nn.ReLU(inplace=True),\n",
    "            \n",
    "            nn.Conv2d(256, 256, kernel_size=3, stride=1, padding=1),\n",
    "            nn.BatchNorm2d(256),\n",
    "            nn.ReLU(inplace=True),\n",
    "            nn.MaxPool2d(kernel_size=(2, 1), stride=(2, 1)),\n",
    "            \n",
    "            nn.Conv2d(256, 512, kernel_size=3, stride=1, padding=1),\n",
    "            nn.BatchNorm2d(512),\n",
    "            nn.ReLU(inplace=True),\n",
    "            \n",
    "            nn.Conv2d(512, 512, kernel_size=3, stride=1, padding=1), \n",
    "            nn.BatchNorm2d(512),\n",
    "            nn.ReLU(inplace=True),\n",
    "            nn.MaxPool2d(kernel_size=(2, 1), stride=(2, 1)),\n",
    "            \n",
    "            nn.Conv2d(512, hidden_dim, kernel_size=2, stride=1, padding=0),\n",
    "            nn.BatchNorm2d(hidden_dim),\n",
    "            nn.ReLU(inplace=True)\n",
    "        )\n",
    "        \n",
    "        encoder_layers = TransformerEncoderLayer(\n",
    "            d_model=hidden_dim, \n",
    "            nhead=nhead, \n",
    "            dim_feedforward=dim_feedforward, \n",
    "            dropout=dropout,\n",
    "            batch_first=True\n",
    "        )\n",
    "        self.transformer_encoder = TransformerEncoder(encoder_layers, num_encoder_layers)\n",
    "        \n",
    "        self.token_embedding = nn.Embedding(vocab_size, hidden_dim)\n",
    "        self.pos_encoder = PositionalEncoding(hidden_dim, dropout)\n",
    "        \n",
    "        decoder_layers = TransformerDecoderLayer(\n",
    "            d_model=hidden_dim, \n",
    "            nhead=nhead, \n",
    "            dim_feedforward=dim_feedforward, \n",
    "            dropout=dropout,\n",
    "            batch_first=True\n",
    "        )\n",
    "        self.transformer_decoder = TransformerDecoder(decoder_layers, num_decoder_layers)\n",
    "        \n",
    "        # Output Projection\n",
    "        self.fc_out = nn.Linear(hidden_dim, vocab_size)\n",
    "        \n",
    "        self._init_weights()\n",
    "        \n",
    "        # Lưu lại kích thước từ điển\n",
    "        self.vocab_size = vocab_size\n",
    "    \n",
    "    def _init_weights(self):\n",
    "        for m in self.modules():\n",
    "            if isinstance(m, nn.Conv2d):\n",
    "                nn.init.kaiming_normal_(m.weight, mode='fan_out', nonlinearity='relu')\n",
    "                if m.bias is not None:\n",
    "                    nn.init.constant_(m.bias, 0)\n",
    "            elif isinstance(m, nn.BatchNorm2d):\n",
    "                nn.init.constant_(m.weight, 1)\n",
    "                nn.init.constant_(m.bias, 0)\n",
    "            elif isinstance(m, nn.Linear):\n",
    "                nn.init.xavier_uniform_(m.weight)\n",
    "                if m.bias is not None:\n",
    "                    nn.init.constant_(m.bias, 0)\n",
    "    \n",
    "    def create_square_subsequent_mask(self, sz, device):\n",
    "        mask = (torch.triu(torch.ones(sz, sz, device=device)) == 1).transpose(0, 1)\n",
    "        mask = mask.float().masked_fill(mask == 0, float('-inf')).masked_fill(mask == 1, float(0.0))\n",
    "        return mask\n",
    "    \n",
    "    def create_padding_mask(self, src, pad_idx):\n",
    "        return (src == pad_idx).float().unsqueeze(-1)\n",
    "    \n",
    "    def encode(self, src):\n",
    "        # Trích xuất đặc trưng với CNN\n",
    "        features = self.cnn(src)  # [B, C, H, W]\n",
    "        \n",
    "        # Đưa về dạng sequence\n",
    "        features = features.squeeze(2)  # [B, C, W]\n",
    "        features = features.permute(0, 2, 1)  # [B, W, C]\n",
    "        \n",
    "        # Qua Transformer Encoder\n",
    "        memory = self.transformer_encoder(features)\n",
    "        \n",
    "        return memory\n",
    "    \n",
    "    def decode(self, tgt, memory, tgt_mask=None, tgt_padding_mask=None):\n",
    "        # Embedding cho target\n",
    "        tgt_embedded = self.token_embedding(tgt)\n",
    "        tgt_embedded = self.pos_encoder(tgt_embedded)\n",
    "        \n",
    "        # Transformer Decoder\n",
    "        output = self.transformer_decoder(\n",
    "            tgt_embedded, memory, \n",
    "            tgt_mask=tgt_mask,\n",
    "            tgt_key_padding_mask=tgt_padding_mask\n",
    "        )\n",
    "        \n",
    "        # Projection để lấy logits\n",
    "        output = self.fc_out(output)\n",
    "        \n",
    "        return output\n",
    "    \n",
    "    def forward(self, src, tgt, tgt_mask=None, pad_idx=0):\n",
    "        # Encode\n",
    "        memory = self.encode(src)\n",
    "        \n",
    "        # Tạo tgt_mask nếu chưa có\n",
    "        if tgt_mask is None and tgt is not None:\n",
    "            tgt_mask = self.create_square_subsequent_mask(tgt.size(1), tgt.device)\n",
    "        \n",
    "        # Tạo padding mask cho tgt\n",
    "        tgt_padding_mask = (tgt == pad_idx).to(tgt.device) if tgt is not None else None\n",
    "        \n",
    "        # Decode\n",
    "        output = self.decode(tgt, memory, tgt_mask, tgt_padding_mask)\n",
    "        \n",
    "        return output\n",
    "    \n",
    "    def generate(self, src, tokenizer, max_length=100, beam_size=1):\n",
    "        self.eval()\n",
    "        \n",
    "        with torch.no_grad():\n",
    "            memory = self.encode(src)\n",
    "            \n",
    "            sos_token = tokenizer.sos_token_idx\n",
    "            eos_token = tokenizer.eos_token_idx\n",
    "            \n",
    "            if beam_size == 1:\n",
    "                dec_input = torch.LongTensor([[sos_token]]).to(src.device)\n",
    "                \n",
    "                for i in range(max_length):\n",
    "                    tgt_mask = self.create_square_subsequent_mask(dec_input.size(1), dec_input.device)\n",
    "                    \n",
    "                    out = self.decode(dec_input, memory, tgt_mask)\n",
    "                    \n",
    "                    prob = F.softmax(out[:, -1], dim=-1)\n",
    "                    _, next_token = torch.max(prob, dim=1)\n",
    "                    next_token = next_token.unsqueeze(1)\n",
    "                    \n",
    "                    dec_input = torch.cat([dec_input, next_token], dim=1)\n",
    "                    \n",
    "                    if next_token.item() == eos_token:\n",
    "                        break\n",
    "                \n",
    "                predicted_indices = dec_input.squeeze().cpu().numpy().tolist()\n",
    "                predicted_text = tokenizer.decode(predicted_indices)\n",
    "                \n",
    "                return predicted_text\n",
    "            else:\n",
    "                pass"
   ]
  },
  {
   "cell_type": "code",
   "execution_count": null,
   "metadata": {
    "_cell_guid": "caca24e9-b0a5-42b2-a965-4d5ec3f94063",
    "_uuid": "ddbaad5e-0c0f-4559-bbd0-ed13fa832be5",
    "collapsed": false,
    "execution": {
     "iopub.execute_input": "2025-05-04T15:48:15.911074Z",
     "iopub.status.busy": "2025-05-04T15:48:15.910802Z",
     "iopub.status.idle": "2025-05-04T15:48:15.934911Z",
     "shell.execute_reply": "2025-05-04T15:48:15.934399Z",
     "shell.execute_reply.started": "2025-05-04T15:48:15.911054Z"
    },
    "jupyter": {
     "outputs_hidden": false
    },
    "trusted": true
   },
   "outputs": [],
   "source": [
    "def collate_fn(batch):\n",
    "    \"\"\"Hàm custom collate_fn để xử lý các chuỗi có độ dài khác nhau\"\"\"\n",
    "    images, target_inputs, target_outputs, texts = zip(*batch)\n",
    "    \n",
    "    heights = [img.shape[1] for img in images]\n",
    "    widths = [img.shape[2] for img in images]\n",
    "    \n",
    "    if len(set(heights)) > 1 or len(set(widths)) > 1:\n",
    "        print(f\"Warning: Không đồng nhất kích thước trong batch: heights={heights}, widths={widths}\")\n",
    "        \n",
    "        target_height = max(set(heights), key=heights.count)\n",
    "        target_width = max(set(widths), key=widths.count)\n",
    "        \n",
    "        resized_images = []\n",
    "        for img in images:\n",
    "            if img.shape[1] != target_height or img.shape[2] != target_width:\n",
    "                resized = F.interpolate(img.unsqueeze(0), size=(target_height, target_width), \n",
    "                                        mode='bilinear', align_corners=False).squeeze(0)\n",
    "                resized_images.append(resized)\n",
    "            else:\n",
    "                resized_images.append(img)\n",
    "        \n",
    "        images = resized_images\n",
    "    \n",
    "    images = torch.stack(images)\n",
    "    target_inputs = torch.stack(target_inputs)\n",
    "    target_outputs = torch.stack(target_outputs)\n",
    "    \n",
    "    return images, target_inputs, target_outputs, texts\n",
    "\n",
    "def levenshtein_distance(s1, s2):\n",
    "    \"\"\"Tính khoảng cách Levenshtein giữa hai chuỗi\"\"\"\n",
    "    if len(s1) < len(s2):\n",
    "        return levenshtein_distance(s2, s1)\n",
    "    \n",
    "    if len(s2) == 0:\n",
    "        return len(s1)\n",
    "    \n",
    "    previous_row = range(len(s2) + 1)\n",
    "    for i, c1 in enumerate(s1):\n",
    "        current_row = [i + 1]\n",
    "        for j, c2 in enumerate(s2):\n",
    "            insertions = previous_row[j + 1] + 1\n",
    "            deletions = current_row[j] + 1\n",
    "            substitutions = previous_row[j] + (c1 != c2)\n",
    "            current_row.append(min(insertions, deletions, substitutions))\n",
    "        previous_row = current_row\n",
    "    \n",
    "    return previous_row[-1]\n",
    "\n",
    "def evaluate(model, dataloader, tokenizer, device, max_length=100, max_samples=None):\n",
    "    \"\"\"Đánh giá mô hình trên tập dữ liệu\"\"\"\n",
    "    model.eval()\n",
    "    \n",
    "    all_predictions = []\n",
    "    all_targets = []\n",
    "    \n",
    "    print(\"Đang đánh giá... \", end=\"\", flush=True)\n",
    "    \n",
    "    with torch.no_grad():\n",
    "        for idx, (images, _, _, texts) in enumerate(dataloader):\n",
    "            if idx % 5 == 0:\n",
    "                print(\".\", end=\"\", flush=True)\n",
    "                \n",
    "            images = images.to(device)\n",
    "            \n",
    "            predictions = []\n",
    "            for i in range(images.size(0)):\n",
    "                pred_text = model.generate(images[i:i+1], tokenizer, max_length=max_length)\n",
    "                predictions.append(pred_text)\n",
    "            \n",
    "            all_predictions.extend(predictions)\n",
    "            all_targets.extend(texts)\n",
    "            \n",
    "            if max_samples and len(all_predictions) >= max_samples:\n",
    "                all_predictions = all_predictions[:max_samples]\n",
    "                all_targets = all_targets[:max_samples]\n",
    "                break\n",
    "    \n",
    "    print(\" Hoàn thành!\")\n",
    "    print(f\"Đã đánh giá {len(all_predictions)} mẫu\")\n",
    "    \n",
    "    correct = sum(p == t for p, t in zip(all_predictions, all_targets))\n",
    "    accuracy = correct / len(all_predictions) if all_predictions else 0\n",
    "    \n",
    "    total_cer = 0\n",
    "    for pred, target in zip(all_predictions, all_targets):\n",
    "        distance = levenshtein_distance(pred, target)\n",
    "        target_len = max(len(target), 1)  # Tránh chia cho 0\n",
    "        total_cer += distance / target_len\n",
    "    avg_cer = total_cer / len(all_predictions) if all_predictions else 1\n",
    "    \n",
    "    return accuracy, avg_cer, all_predictions, all_targets"
   ]
  },
  {
   "cell_type": "code",
   "execution_count": null,
   "metadata": {
    "_cell_guid": "9c909533-24f5-4bbd-a5de-d10d07662aae",
    "_uuid": "52df23f7-eaef-43ae-984e-39b53e222b9d",
    "collapsed": false,
    "execution": {
     "iopub.execute_input": "2025-05-04T15:48:15.935733Z",
     "iopub.status.busy": "2025-05-04T15:48:15.935550Z",
     "iopub.status.idle": "2025-05-04T15:48:15.962965Z",
     "shell.execute_reply": "2025-05-04T15:48:15.962188Z",
     "shell.execute_reply.started": "2025-05-04T15:48:15.935718Z"
    },
    "jupyter": {
     "outputs_hidden": false
    },
    "trusted": true
   },
   "outputs": [],
   "source": [
    "def train_cnn_transformer_decoder(model, train_loader, val_loader, tokenizer, output_dir='output', \n",
    "                 epochs=30, lr=0.0005, weight_decay=1e-5, device='cuda', patience=10):\n",
    "    \"\"\"Hàm huấn luyện mô hình CNN + Transformer Decoder\"\"\"\n",
    "    os.makedirs(output_dir, exist_ok=True)\n",
    "    \n",
    "    criterion = nn.CrossEntropyLoss(ignore_index=tokenizer.pad_token_idx)\n",
    "    \n",
    "    optimizer = torch.optim.AdamW(\n",
    "        model.parameters(), \n",
    "        lr=lr, \n",
    "        betas=(0.9, 0.999),\n",
    "        weight_decay=weight_decay\n",
    "    )\n",
    "    \n",
    "    scheduler = torch.optim.lr_scheduler.ReduceLROnPlateau(\n",
    "        optimizer, \n",
    "        mode='min', \n",
    "        factor=0.5,\n",
    "        patience=3,\n",
    "        min_lr=1e-6,\n",
    "        verbose=True\n",
    "    )\n",
    "    \n",
    "    if hasattr(torch.amp, 'GradScaler'):\n",
    "        scaler = torch.amp.GradScaler('cuda' if device == 'cuda' else 'cpu')\n",
    "    else:\n",
    "        scaler = GradScaler(enabled=(device == 'cuda'))\n",
    "    \n",
    "    history = {\n",
    "        'train_loss': [],\n",
    "        'val_loss': [],\n",
    "        'accuracy': [],\n",
    "        'cer': [],\n",
    "        'learning_rate': []\n",
    "    }\n",
    "    \n",
    "    best_cer = float('inf')\n",
    "    no_improve_epochs = 0\n",
    "    best_epoch = -1\n",
    "    \n",
    "    accumulation_steps = 2\n",
    "    \n",
    "    for epoch in range(epochs):\n",
    "        print(f\"\\n{'='*20} Epoch {epoch+1}/{epochs} {'='*20}\")\n",
    "        start_time = time.time()\n",
    "        \n",
    "        model.train()\n",
    "        train_loss = 0.0\n",
    "        batch_count = 0\n",
    "        optimizer.zero_grad()\n",
    "        \n",
    "        progress_bar = tqdm(train_loader, desc=f\"Training\")\n",
    "        for i, (images, target_inputs, target_outputs, _) in enumerate(progress_bar):\n",
    "            images = images.to(device)\n",
    "            target_inputs = target_inputs.to(device)\n",
    "            target_outputs = target_outputs.to(device)\n",
    "            \n",
    "            if hasattr(torch.amp, 'autocast'):\n",
    "                ctx_manager = torch.amp.autocast('cuda' if device == 'cuda' else 'cpu')\n",
    "            else:\n",
    "                ctx_manager = autocast(enabled=(device == 'cuda'))\n",
    "            \n",
    "            with ctx_manager:\n",
    "                tgt_mask = model.create_square_subsequent_mask(target_inputs.size(1), device)\n",
    "                \n",
    "                output = model(images, target_inputs, tgt_mask, tokenizer.pad_token_idx)\n",
    "                \n",
    "                output_flat = output.reshape(-1, output.size(-1))\n",
    "                target_flat = target_outputs.reshape(-1)\n",
    "                \n",
    "                loss = criterion(output_flat, target_flat)\n",
    "                loss = loss / accumulation_steps\n",
    "            \n",
    "            if device == 'cuda':\n",
    "                scaler.scale(loss).backward()\n",
    "                \n",
    "                if (i + 1) % accumulation_steps == 0 or (i + 1 == len(train_loader)):\n",
    "                    scaler.unscale_(optimizer)\n",
    "                    torch.nn.utils.clip_grad_norm_(model.parameters(), 1.0)\n",
    "                    scaler.step(optimizer)\n",
    "                    scaler.update()\n",
    "                    optimizer.zero_grad()\n",
    "            else:\n",
    "                loss.backward()\n",
    "                \n",
    "                if (i + 1) % accumulation_steps == 0 or (i + 1 == len(train_loader)):\n",
    "                    torch.nn.utils.clip_grad_norm_(model.parameters(), 1.0)\n",
    "                    optimizer.step()\n",
    "                    optimizer.zero_grad()\n",
    "            \n",
    "            current_lr = optimizer.param_groups[0]['lr']\n",
    "            train_loss += loss.item() * accumulation_steps\n",
    "            batch_count += 1\n",
    "            progress_bar.set_postfix(loss=f\"{loss.item() * accumulation_steps:.4f}\", lr=f\"{current_lr:.7f}\")\n",
    "        \n",
    "        avg_train_loss = train_loss / batch_count if batch_count > 0 else float('inf')\n",
    "        history['train_loss'].append(avg_train_loss)\n",
    "        history['learning_rate'].append(optimizer.param_groups[0]['lr'])\n",
    "        \n",
    "        model.eval()\n",
    "        val_loss = 0.0\n",
    "        val_batch_count = 0\n",
    "        \n",
    "        with torch.no_grad():\n",
    "            for images, target_inputs, target_outputs, _ in tqdm(val_loader, desc=\"Validation\"):\n",
    "                images = images.to(device)\n",
    "                target_inputs = target_inputs.to(device)\n",
    "                target_outputs = target_outputs.to(device)\n",
    "                \n",
    "                tgt_mask = model.create_square_subsequent_mask(target_inputs.size(1), device)\n",
    "                \n",
    "                output = model(images, target_inputs, tgt_mask, tokenizer.pad_token_idx)\n",
    "                \n",
    "                output_flat = output.reshape(-1, output.size(-1))\n",
    "                target_flat = target_outputs.reshape(-1)\n",
    "                \n",
    "                loss = criterion(output_flat, target_flat)\n",
    "                val_loss += loss.item()\n",
    "                val_batch_count += 1\n",
    "        \n",
    "        avg_val_loss = val_loss / val_batch_count if val_batch_count > 0 else float('inf')\n",
    "        history['val_loss'].append(avg_val_loss)\n",
    "        \n",
    "        scheduler.step(avg_val_loss)\n",
    "        \n",
    "        accuracy, cer, predictions, targets = evaluate(\n",
    "            model, val_loader, tokenizer, device, max_samples=100\n",
    "        )\n",
    "        \n",
    "        history['accuracy'].append(accuracy)\n",
    "        history['cer'].append(cer)\n",
    "        \n",
    "        epoch_time = time.time() - start_time\n",
    "        print(f\"\\nEpoch {epoch+1}/{epochs} - Time: {epoch_time:.1f}s\")\n",
    "        print(f\"  Train Loss: {avg_train_loss:.4f}, Val Loss: {avg_val_loss:.4f}\")\n",
    "        print(f\"  Accuracy: {accuracy:.4f}, CER: {cer:.4f}\")\n",
    "        print(f\"  Learning Rate: {optimizer.param_groups[0]['lr']:.7f}\")\n",
    "        \n",
    "        print(\"\\nMẫu dự đoán:\")\n",
    "        for i in range(min(5, len(predictions))):\n",
    "            print(f\"  Mẫu {i+1}:\")\n",
    "            print(f\"  Dự đoán: '{predictions[i]}'\")\n",
    "            print(f\"  Thực tế: '{targets[i]}'\")\n",
    "            print()\n",
    "        \n",
    "        if cer < best_cer:\n",
    "            best_cer = cer\n",
    "            best_epoch = epoch + 1\n",
    "            torch.save({\n",
    "                'epoch': epoch,\n",
    "                'model_state_dict': model.state_dict(),\n",
    "                'optimizer_state_dict': optimizer.state_dict(),\n",
    "                'scheduler_state_dict': scheduler.state_dict(),\n",
    "                'train_loss': avg_train_loss,\n",
    "                'val_loss': avg_val_loss,\n",
    "                'accuracy': accuracy,\n",
    "                'cer': cer,\n",
    "                'history': history,\n",
    "            }, os.path.join(output_dir, 'best_model.pth'))\n",
    "            print(f\"  Đã lưu mô hình tốt nhất với CER: {cer:.4f}!\")\n",
    "            no_improve_epochs = 0\n",
    "        else:\n",
    "            no_improve_epochs += 1\n",
    "            print(f\"  Không cải thiện CER. Còn {patience - no_improve_epochs} epochs nữa sẽ dừng early stopping.\")\n",
    "        \n",
    "        # Lưu checkpoint\n",
    "        if (epoch + 1) % 5 == 0 or epoch == epochs - 1:\n",
    "            torch.save({\n",
    "                'epoch': epoch,\n",
    "                'model_state_dict': model.state_dict(),\n",
    "                'optimizer_state_dict': optimizer.state_dict(),\n",
    "                'scheduler_state_dict': scheduler.state_dict(),\n",
    "                'train_loss': avg_train_loss,\n",
    "                'val_loss': avg_val_loss,\n",
    "                'accuracy': accuracy,\n",
    "                'cer': cer,\n",
    "                'history': history,\n",
    "                'best_cer': best_cer,\n",
    "                'best_epoch': best_epoch\n",
    "            }, os.path.join(output_dir, f'checkpoint_epoch_{epoch+1}.pth'))\n",
    "            print(f\"  Lưu checkpoint tại epoch {epoch+1}\")\n",
    "        \n",
    "        # Early stopping\n",
    "        if no_improve_epochs >= patience:\n",
    "            print(f\"\\nEarly stopping sau {patience} epochs không cải thiện.\")\n",
    "            break\n",
    "    \n",
    "    print(f\"\\nKết thúc huấn luyện sau {epoch+1} epochs\")\n",
    "    print(f\"Mô hình tốt nhất tại epoch {best_epoch} với CER: {best_cer:.4f}\")\n",
    "    \n",
    "    return model, history"
   ]
  },
  {
   "cell_type": "code",
   "execution_count": null,
   "metadata": {
    "_cell_guid": "21cc9248-a60b-40fc-adb0-e0d18d7fc13a",
    "_uuid": "25ec4e3d-a9e7-4590-8b26-655ab27ec70a",
    "collapsed": false,
    "execution": {
     "iopub.execute_input": "2025-05-04T15:48:15.964185Z",
     "iopub.status.busy": "2025-05-04T15:48:15.963940Z",
     "iopub.status.idle": "2025-05-04T15:48:15.982032Z",
     "shell.execute_reply": "2025-05-04T15:48:15.981517Z",
     "shell.execute_reply.started": "2025-05-04T15:48:15.964162Z"
    },
    "jupyter": {
     "outputs_hidden": false
    },
    "trusted": true
   },
   "outputs": [],
   "source": [
    "def predict_from_image_path(model, image_path, tokenizer, device, preprocess=True, max_length=100):\n",
    "    \"\"\"Dự đoán văn bản từ đường dẫn ảnh\"\"\"\n",
    "    image = cv2.imread(image_path)\n",
    "    if image is None:\n",
    "        print(f\"Không thể đọc ảnh từ {image_path}\")\n",
    "        return \"\"\n",
    "    \n",
    "    image = cv2.cvtColor(image, cv2.COLOR_BGR2RGB)\n",
    "    \n",
    "    if preprocess:\n",
    "        image = preprocess_image(image)\n",
    "    \n",
    "    transform = get_ocr_transforms(is_train=False)\n",
    "    image_tensor = transform(image=image)['image']\n",
    "    \n",
    "    model.eval()\n",
    "    with torch.no_grad():\n",
    "        image_tensor = image_tensor.unsqueeze(0).to(device)\n",
    "        prediction = model.generate(image_tensor, tokenizer, max_length=max_length)\n",
    "    \n",
    "    return prediction\n"
   ]
  },
  {
   "cell_type": "code",
   "execution_count": null,
   "metadata": {
    "_cell_guid": "c0ba760e-e79d-4c1c-bcbb-e3d75c918adc",
    "_uuid": "b30d1be0-0043-4c0d-a02c-5d91f5320c9a",
    "collapsed": false,
    "execution": {
     "iopub.execute_input": "2025-05-04T15:48:15.982737Z",
     "iopub.status.busy": "2025-05-04T15:48:15.982525Z",
     "iopub.status.idle": "2025-05-04T16:17:22.348983Z",
     "shell.execute_reply": "2025-05-04T16:17:22.348242Z",
     "shell.execute_reply.started": "2025-05-04T15:48:15.982722Z"
    },
    "jupyter": {
     "outputs_hidden": false
    },
    "trusted": true
   },
   "outputs": [
    {
     "name": "stdout",
     "output_type": "stream",
     "text": [
      "Kích thước từ điển: 248\n"
     ]
    },
    {
     "name": "stderr",
     "output_type": "stream",
     "text": [
      "/usr/local/lib/python3.11/dist-packages/albumentations/core/validation.py:58: UserWarning: ShiftScaleRotate is a special case of Affine transform. Please use Affine transform instead.\n",
      "  original_init(self, **validated_kwargs)\n"
     ]
    },
    {
     "name": "stdout",
     "output_type": "stream",
     "text": [
      "Đã tải 5285 mẫu từ /kaggle/input/vietnamese-receipts-mc-ocr-2021/text_recognition_train_data.txt\n",
      "Đã tải 1300 mẫu từ /kaggle/input/vietnamese-receipts-mc-ocr-2021/text_recognition_val_data.txt\n",
      "Tổng số tham số của mô hình: 10,686,200\n",
      "Số tham số có thể train: 10,686,200\n",
      "\n",
      "==================== Epoch 1/30 ====================\n"
     ]
    },
    {
     "name": "stderr",
     "output_type": "stream",
     "text": [
      "/usr/local/lib/python3.11/dist-packages/torch/optim/lr_scheduler.py:62: UserWarning: The verbose parameter is deprecated. Please use get_last_lr() to access the learning rate.\n",
      "  warnings.warn(\n"
     ]
    },
    {
     "data": {
      "application/vnd.jupyter.widget-view+json": {
       "model_id": "5eece7dfe1ef405387308908865057a5",
       "version_major": 2,
       "version_minor": 0
      },
      "text/plain": [
       "Training:   0%|          | 0/331 [00:00<?, ?it/s]"
      ]
     },
     "metadata": {},
     "output_type": "display_data"
    },
    {
     "name": "stderr",
     "output_type": "stream",
     "text": [
      "/usr/local/lib/python3.11/dist-packages/torch/nn/functional.py:5849: UserWarning: Support for mismatched key_padding_mask and attn_mask is deprecated. Use same type for both instead.\n",
      "  warnings.warn(\n"
     ]
    },
    {
     "data": {
      "application/vnd.jupyter.widget-view+json": {
       "model_id": "91ff98f92bda48d181b5017fd594b0fe",
       "version_major": 2,
       "version_minor": 0
      },
      "text/plain": [
       "Validation:   0%|          | 0/82 [00:00<?, ?it/s]"
      ]
     },
     "metadata": {},
     "output_type": "display_data"
    },
    {
     "name": "stdout",
     "output_type": "stream",
     "text": [
      "Đang đánh giá... .. Hoàn thành!\n",
      "Đã đánh giá 100 mẫu\n",
      "\n",
      "Epoch 1/30 - Time: 90.0s\n",
      "  Train Loss: 1.9236, Val Loss: 1.0039\n",
      "  Accuracy: 0.0400, CER: 0.9860\n",
      "  Learning Rate: 0.0005000\n",
      "\n",
      "Mẫu dự đoán:\n",
      "  Mẫu 1:\n",
      "  Dự đoán: 'Thời gian: 14/08/2020 1:08:202020'\n",
      "  Thực tế: 'NHÀ SÁCH GD-TC CẨM PHẢ'\n",
      "\n",
      "  Mẫu 2:\n",
      "  Dự đoán: 'Thời gian: 14/08/2020 1:08:202020'\n",
      "  Thực tế: 'ĐC: 212 Đường Trần Phú-Cẩm Phả'\n",
      "\n",
      "  Mẫu 3:\n",
      "  Dự đoán: 'Thời gian: 14/08/2020 1:08:202020'\n",
      "  Thực tế: 'Thời gian 10:44:08-15/08/2020'\n",
      "\n",
      "  Mẫu 4:\n",
      "  Dự đoán: 'TỔNG TIỀN PHẢI T.TOÁN'\n",
      "  Thực tế: 'Tổng số thanh toán:'\n",
      "\n",
      "  Mẫu 5:\n",
      "  Dự đoán: 'Tổng cộng:'\n",
      "  Thực tế: '150.000đ'\n",
      "\n",
      "  Đã lưu mô hình tốt nhất với CER: 0.9860!\n",
      "\n",
      "==================== Epoch 2/30 ====================\n"
     ]
    },
    {
     "data": {
      "application/vnd.jupyter.widget-view+json": {
       "model_id": "9550b7c4bdd24715ae957ad454130596",
       "version_major": 2,
       "version_minor": 0
      },
      "text/plain": [
       "Training:   0%|          | 0/331 [00:00<?, ?it/s]"
      ]
     },
     "metadata": {},
     "output_type": "display_data"
    },
    {
     "data": {
      "application/vnd.jupyter.widget-view+json": {
       "model_id": "1ad8be73622945aab27a1d568ea730c7",
       "version_major": 2,
       "version_minor": 0
      },
      "text/plain": [
       "Validation:   0%|          | 0/82 [00:00<?, ?it/s]"
      ]
     },
     "metadata": {},
     "output_type": "display_data"
    },
    {
     "name": "stdout",
     "output_type": "stream",
     "text": [
      "Đang đánh giá... .. Hoàn thành!\n",
      "Đã đánh giá 100 mẫu\n",
      "\n",
      "Epoch 2/30 - Time: 51.8s\n",
      "  Train Loss: 1.0129, Val Loss: 0.8122\n",
      "  Accuracy: 0.0100, CER: 0.8564\n",
      "  Learning Rate: 0.0005000\n",
      "\n",
      "Mẫu dự đoán:\n",
      "  Mẫu 1:\n",
      "  Dự đoán: 'TỔNG TIỀN PHẢI T.TOÁN'\n",
      "  Thực tế: 'NHÀ SÁCH GD-TC CẨM PHẢ'\n",
      "\n",
      "  Mẫu 2:\n",
      "  Dự đoán: 'Tổng cộng :'\n",
      "  Thực tế: 'ĐC: 212 Đường Trần Phú-Cẩm Phả'\n",
      "\n",
      "  Mẫu 3:\n",
      "  Dự đoán: 'Tổng cộng :'\n",
      "  Thực tế: 'Thời gian 10:44:08-15/08/2020'\n",
      "\n",
      "  Mẫu 4:\n",
      "  Dự đoán: 'Tổng cộng :'\n",
      "  Thực tế: 'Tổng số thanh toán:'\n",
      "\n",
      "  Mẫu 5:\n",
      "  Dự đoán: '10.0000'\n",
      "  Thực tế: '150.000đ'\n",
      "\n",
      "  Đã lưu mô hình tốt nhất với CER: 0.8564!\n",
      "\n",
      "==================== Epoch 3/30 ====================\n"
     ]
    },
    {
     "data": {
      "application/vnd.jupyter.widget-view+json": {
       "model_id": "bbf3fd1e0e694bf4b7b1898854d63caa",
       "version_major": 2,
       "version_minor": 0
      },
      "text/plain": [
       "Training:   0%|          | 0/331 [00:00<?, ?it/s]"
      ]
     },
     "metadata": {},
     "output_type": "display_data"
    },
    {
     "data": {
      "application/vnd.jupyter.widget-view+json": {
       "model_id": "6681252016064714bb0f54cef319b78e",
       "version_major": 2,
       "version_minor": 0
      },
      "text/plain": [
       "Validation:   0%|          | 0/82 [00:00<?, ?it/s]"
      ]
     },
     "metadata": {},
     "output_type": "display_data"
    },
    {
     "name": "stdout",
     "output_type": "stream",
     "text": [
      "Đang đánh giá... .. Hoàn thành!\n",
      "Đã đánh giá 100 mẫu\n",
      "\n",
      "Epoch 3/30 - Time: 53.7s\n",
      "  Train Loss: 0.8440, Val Loss: 0.7224\n",
      "  Accuracy: 0.0500, CER: 0.7611\n",
      "  Learning Rate: 0.0005000\n",
      "\n",
      "Mẫu dự đoán:\n",
      "  Mẫu 1:\n",
      "  Dự đoán: 'Tổng số thanh toán:'\n",
      "  Thực tế: 'NHÀ SÁCH GD-TC CẨM PHẢ'\n",
      "\n",
      "  Mẫu 2:\n",
      "  Dự đoán: 'Ngày: 13/08/2020 - 17:3'\n",
      "  Thực tế: 'ĐC: 212 Đường Trần Phú-Cẩm Phả'\n",
      "\n",
      "  Mẫu 3:\n",
      "  Dự đoán: 'Tổng số thanh toán:'\n",
      "  Thực tế: 'Thời gian 10:44:08-15/08/2020'\n",
      "\n",
      "  Mẫu 4:\n",
      "  Dự đoán: 'Tổng số thanh toán'\n",
      "  Thực tế: 'Tổng số thanh toán:'\n",
      "\n",
      "  Mẫu 5:\n",
      "  Dự đoán: '14,000'\n",
      "  Thực tế: '150.000đ'\n",
      "\n",
      "  Đã lưu mô hình tốt nhất với CER: 0.7611!\n",
      "\n",
      "==================== Epoch 4/30 ====================\n"
     ]
    },
    {
     "data": {
      "application/vnd.jupyter.widget-view+json": {
       "model_id": "67d78acc037d45afb4ac4d9ef482ed62",
       "version_major": 2,
       "version_minor": 0
      },
      "text/plain": [
       "Training:   0%|          | 0/331 [00:00<?, ?it/s]"
      ]
     },
     "metadata": {},
     "output_type": "display_data"
    },
    {
     "data": {
      "application/vnd.jupyter.widget-view+json": {
       "model_id": "b22d4fe2c6334936bd77d77de69ab1f9",
       "version_major": 2,
       "version_minor": 0
      },
      "text/plain": [
       "Validation:   0%|          | 0/82 [00:00<?, ?it/s]"
      ]
     },
     "metadata": {},
     "output_type": "display_data"
    },
    {
     "name": "stdout",
     "output_type": "stream",
     "text": [
      "Đang đánh giá... .. Hoàn thành!\n",
      "Đã đánh giá 100 mẫu\n",
      "\n",
      "Epoch 4/30 - Time: 57.9s\n",
      "  Train Loss: 0.7504, Val Loss: 0.6907\n",
      "  Accuracy: 0.0900, CER: 0.8187\n",
      "  Learning Rate: 0.0005000\n",
      "\n",
      "Mẫu dự đoán:\n",
      "  Mẫu 1:\n",
      "  Dự đoán: 'Chợ Sủi Phú Thị Gia Lâm'\n",
      "  Thực tế: 'NHÀ SÁCH GD-TC CẨM PHẢ'\n",
      "\n",
      "  Mẫu 2:\n",
      "  Dự đoán: 'Tổ 7 khu Tân Lập 4 - P. Cẩm Thủy'\n",
      "  Thực tế: 'ĐC: 212 Đường Trần Phú-Cẩm Phả'\n",
      "\n",
      "  Mẫu 3:\n",
      "  Dự đoán: 'Tổ 7 khu Tân Lập 4 - P. Cẩm Thủy'\n",
      "  Thực tế: 'Thời gian 10:44:08-15/08/2020'\n",
      "\n",
      "  Mẫu 4:\n",
      "  Dự đoán: 'Tổng tiền'\n",
      "  Thực tế: 'Tổng số thanh toán:'\n",
      "\n",
      "  Mẫu 5:\n",
      "  Dự đoán: '11.000đ'\n",
      "  Thực tế: '150.000đ'\n",
      "\n",
      "  Không cải thiện CER. Còn 9 epochs nữa sẽ dừng early stopping.\n",
      "\n",
      "==================== Epoch 5/30 ====================\n"
     ]
    },
    {
     "data": {
      "application/vnd.jupyter.widget-view+json": {
       "model_id": "fc9172646f9c44ebbde01f2e1cef94fb",
       "version_major": 2,
       "version_minor": 0
      },
      "text/plain": [
       "Training:   0%|          | 0/331 [00:00<?, ?it/s]"
      ]
     },
     "metadata": {},
     "output_type": "display_data"
    },
    {
     "data": {
      "application/vnd.jupyter.widget-view+json": {
       "model_id": "2e51ebcacd8b426085183be45463217a",
       "version_major": 2,
       "version_minor": 0
      },
      "text/plain": [
       "Validation:   0%|          | 0/82 [00:00<?, ?it/s]"
      ]
     },
     "metadata": {},
     "output_type": "display_data"
    },
    {
     "name": "stdout",
     "output_type": "stream",
     "text": [
      "Đang đánh giá... .. Hoàn thành!\n",
      "Đã đánh giá 100 mẫu\n",
      "\n",
      "Epoch 5/30 - Time: 55.6s\n",
      "  Train Loss: 0.6896, Val Loss: 0.6355\n",
      "  Accuracy: 0.1300, CER: 0.6783\n",
      "  Learning Rate: 0.0005000\n",
      "\n",
      "Mẫu dự đoán:\n",
      "  Mẫu 1:\n",
      "  Dự đoán: 'Chợ Sủi Phú Thị Gia Lâm'\n",
      "  Thực tế: 'NHÀ SÁCH GD-TC CẨM PHẢ'\n",
      "\n",
      "  Mẫu 2:\n",
      "  Dự đoán: 'Ngày bán: 15/08/2020 16:3'\n",
      "  Thực tế: 'ĐC: 212 Đường Trần Phú-Cẩm Phả'\n",
      "\n",
      "  Mẫu 3:\n",
      "  Dự đoán: 'Ngày bán: 15/08/2020 16:3'\n",
      "  Thực tế: 'Thời gian 10:44:08-15/08/2020'\n",
      "\n",
      "  Mẫu 4:\n",
      "  Dự đoán: 'TỔNG TIỀN PHẢI T.TOÁN'\n",
      "  Thực tế: 'Tổng số thanh toán:'\n",
      "\n",
      "  Mẫu 5:\n",
      "  Dự đoán: '16,000'\n",
      "  Thực tế: '150.000đ'\n",
      "\n",
      "  Đã lưu mô hình tốt nhất với CER: 0.6783!\n",
      "  Lưu checkpoint tại epoch 5\n",
      "\n",
      "==================== Epoch 6/30 ====================\n"
     ]
    },
    {
     "data": {
      "application/vnd.jupyter.widget-view+json": {
       "model_id": "682f3cb3eb634bcc812b5ac4f5ee0b3a",
       "version_major": 2,
       "version_minor": 0
      },
      "text/plain": [
       "Training:   0%|          | 0/331 [00:00<?, ?it/s]"
      ]
     },
     "metadata": {},
     "output_type": "display_data"
    },
    {
     "data": {
      "application/vnd.jupyter.widget-view+json": {
       "model_id": "ea81010eab5a4975987384d8b264861f",
       "version_major": 2,
       "version_minor": 0
      },
      "text/plain": [
       "Validation:   0%|          | 0/82 [00:00<?, ?it/s]"
      ]
     },
     "metadata": {},
     "output_type": "display_data"
    },
    {
     "name": "stdout",
     "output_type": "stream",
     "text": [
      "Đang đánh giá... .. Hoàn thành!\n",
      "Đã đánh giá 100 mẫu\n",
      "\n",
      "Epoch 6/30 - Time: 56.3s\n",
      "  Train Loss: 0.6362, Val Loss: 0.6080\n",
      "  Accuracy: 0.1500, CER: 0.7630\n",
      "  Learning Rate: 0.0005000\n",
      "\n",
      "Mẫu dự đoán:\n",
      "  Mẫu 1:\n",
      "  Dự đoán: 'Chợ Sủi Phú Thị Gia Lâm'\n",
      "  Thực tế: 'NHÀ SÁCH GD-TC CẨM PHẢ'\n",
      "\n",
      "  Mẫu 2:\n",
      "  Dự đoán: 'Ngày bán: 15/08/2020 18:44'\n",
      "  Thực tế: 'ĐC: 212 Đường Trần Phú-Cẩm Phả'\n",
      "\n",
      "  Mẫu 3:\n",
      "  Dự đoán: 'Ngày: 16/08/2020 - 16:44'\n",
      "  Thực tế: 'Thời gian 10:44:08-15/08/2020'\n",
      "\n",
      "  Mẫu 4:\n",
      "  Dự đoán: 'Tổng cộng cộng cộng cộng cộng cộng cộng cộng cộng cộng cội'\n",
      "  Thực tế: 'Tổng số thanh toán:'\n",
      "\n",
      "  Mẫu 5:\n",
      "  Dự đoán: '15.000'\n",
      "  Thực tế: '150.000đ'\n",
      "\n",
      "  Không cải thiện CER. Còn 9 epochs nữa sẽ dừng early stopping.\n",
      "\n",
      "==================== Epoch 7/30 ====================\n"
     ]
    },
    {
     "data": {
      "application/vnd.jupyter.widget-view+json": {
       "model_id": "bb1d31431652438fa97427946c35a2e2",
       "version_major": 2,
       "version_minor": 0
      },
      "text/plain": [
       "Training:   0%|          | 0/331 [00:00<?, ?it/s]"
      ]
     },
     "metadata": {},
     "output_type": "display_data"
    },
    {
     "data": {
      "application/vnd.jupyter.widget-view+json": {
       "model_id": "3cd42dad78cc4756936e2ebb009180e0",
       "version_major": 2,
       "version_minor": 0
      },
      "text/plain": [
       "Validation:   0%|          | 0/82 [00:00<?, ?it/s]"
      ]
     },
     "metadata": {},
     "output_type": "display_data"
    },
    {
     "name": "stdout",
     "output_type": "stream",
     "text": [
      "Đang đánh giá... .. Hoàn thành!\n",
      "Đã đánh giá 100 mẫu\n",
      "\n",
      "Epoch 7/30 - Time: 55.1s\n",
      "  Train Loss: 0.5961, Val Loss: 0.5929\n",
      "  Accuracy: 0.1400, CER: 0.7275\n",
      "  Learning Rate: 0.0005000\n",
      "\n",
      "Mẫu dự đoán:\n",
      "  Mẫu 1:\n",
      "  Dự đoán: 'Ngày bán: 14/08/2020 18:1'\n",
      "  Thực tế: 'NHÀ SÁCH GD-TC CẨM PHẢ'\n",
      "\n",
      "  Mẫu 2:\n",
      "  Dự đoán: 'Thời gian: 09:45:4 - 14/08/2020'\n",
      "  Thực tế: 'ĐC: 212 Đường Trần Phú-Cẩm Phả'\n",
      "\n",
      "  Mẫu 3:\n",
      "  Dự đoán: 'Thời gian: 09:45:4 - 14/08/2020'\n",
      "  Thực tế: 'Thời gian 10:44:08-15/08/2020'\n",
      "\n",
      "  Mẫu 4:\n",
      "  Dự đoán: 'Tổng tiền (VND)'\n",
      "  Thực tế: 'Tổng số thanh toán:'\n",
      "\n",
      "  Mẫu 5:\n",
      "  Dự đoán: '10,000'\n",
      "  Thực tế: '150.000đ'\n",
      "\n",
      "  Không cải thiện CER. Còn 8 epochs nữa sẽ dừng early stopping.\n",
      "\n",
      "==================== Epoch 8/30 ====================\n"
     ]
    },
    {
     "data": {
      "application/vnd.jupyter.widget-view+json": {
       "model_id": "a7ae42a1706b4fa5b971ade2d24981b7",
       "version_major": 2,
       "version_minor": 0
      },
      "text/plain": [
       "Training:   0%|          | 0/331 [00:00<?, ?it/s]"
      ]
     },
     "metadata": {},
     "output_type": "display_data"
    },
    {
     "data": {
      "application/vnd.jupyter.widget-view+json": {
       "model_id": "74c650a4d9464a74b3a96721c93d1085",
       "version_major": 2,
       "version_minor": 0
      },
      "text/plain": [
       "Validation:   0%|          | 0/82 [00:00<?, ?it/s]"
      ]
     },
     "metadata": {},
     "output_type": "display_data"
    },
    {
     "name": "stdout",
     "output_type": "stream",
     "text": [
      "Đang đánh giá... .. Hoàn thành!\n",
      "Đã đánh giá 100 mẫu\n",
      "\n",
      "Epoch 8/30 - Time: 54.5s\n",
      "  Train Loss: 0.5609, Val Loss: 0.5737\n",
      "  Accuracy: 0.1600, CER: 0.6605\n",
      "  Learning Rate: 0.0005000\n",
      "\n",
      "Mẫu dự đoán:\n",
      "  Mẫu 1:\n",
      "  Dự đoán: 'NHÀ SÁCH GD-TC CẨM PHẢ'\n",
      "  Thực tế: 'NHÀ SÁCH GD-TC CẨM PHẢ'\n",
      "\n",
      "  Mẫu 2:\n",
      "  Dự đoán: 'Ngày: 11/08/2020 - 18:58'\n",
      "  Thực tế: 'ĐC: 212 Đường Trần Phú-Cẩm Phả'\n",
      "\n",
      "  Mẫu 3:\n",
      "  Dự đoán: 'Tong so tien thanh toan:'\n",
      "  Thực tế: 'Thời gian 10:44:08-15/08/2020'\n",
      "\n",
      "  Mẫu 4:\n",
      "  Dự đoán: 'Tổ 7 Khu Minh Tiến A'\n",
      "  Thực tế: 'Tổng số thanh toán:'\n",
      "\n",
      "  Mẫu 5:\n",
      "  Dự đoán: '124,000'\n",
      "  Thực tế: '150.000đ'\n",
      "\n",
      "  Đã lưu mô hình tốt nhất với CER: 0.6605!\n",
      "\n",
      "==================== Epoch 9/30 ====================\n"
     ]
    },
    {
     "data": {
      "application/vnd.jupyter.widget-view+json": {
       "model_id": "c72adf5187174e1e9468992afafcf3d2",
       "version_major": 2,
       "version_minor": 0
      },
      "text/plain": [
       "Training:   0%|          | 0/331 [00:00<?, ?it/s]"
      ]
     },
     "metadata": {},
     "output_type": "display_data"
    },
    {
     "data": {
      "application/vnd.jupyter.widget-view+json": {
       "model_id": "df9ce2743d7945b6b12a50f6293990e7",
       "version_major": 2,
       "version_minor": 0
      },
      "text/plain": [
       "Validation:   0%|          | 0/82 [00:00<?, ?it/s]"
      ]
     },
     "metadata": {},
     "output_type": "display_data"
    },
    {
     "name": "stdout",
     "output_type": "stream",
     "text": [
      "Đang đánh giá... .. Hoàn thành!\n",
      "Đã đánh giá 100 mẫu\n",
      "\n",
      "Epoch 9/30 - Time: 55.5s\n",
      "  Train Loss: 0.5262, Val Loss: 0.5551\n",
      "  Accuracy: 0.1600, CER: 0.6025\n",
      "  Learning Rate: 0.0005000\n",
      "\n",
      "Mẫu dự đoán:\n",
      "  Mẫu 1:\n",
      "  Dự đoán: 'Ngày bán: 14/08/2020 17:18'\n",
      "  Thực tế: 'NHÀ SÁCH GD-TC CẨM PHẢ'\n",
      "\n",
      "  Mẫu 2:\n",
      "  Dự đoán: 'Thời gian: 09:42:43 - 14/08/2020'\n",
      "  Thực tế: 'ĐC: 212 Đường Trần Phú-Cẩm Phả'\n",
      "\n",
      "  Mẫu 3:\n",
      "  Dự đoán: 'Thời gian: 09:42:43 - 14/08/2020'\n",
      "  Thực tế: 'Thời gian 10:44:08-15/08/2020'\n",
      "\n",
      "  Mẫu 4:\n",
      "  Dự đoán: 'Tổng số thanh toán:'\n",
      "  Thực tế: 'Tổng số thanh toán:'\n",
      "\n",
      "  Mẫu 5:\n",
      "  Dự đoán: '10,000'\n",
      "  Thực tế: '150.000đ'\n",
      "\n",
      "  Đã lưu mô hình tốt nhất với CER: 0.6025!\n",
      "\n",
      "==================== Epoch 10/30 ====================\n"
     ]
    },
    {
     "data": {
      "application/vnd.jupyter.widget-view+json": {
       "model_id": "a8b91fdcca3f4ea4b5b2cc4e9f14e834",
       "version_major": 2,
       "version_minor": 0
      },
      "text/plain": [
       "Training:   0%|          | 0/331 [00:00<?, ?it/s]"
      ]
     },
     "metadata": {},
     "output_type": "display_data"
    },
    {
     "data": {
      "application/vnd.jupyter.widget-view+json": {
       "model_id": "3b06900b89d5431386ffce23b1bd7263",
       "version_major": 2,
       "version_minor": 0
      },
      "text/plain": [
       "Validation:   0%|          | 0/82 [00:00<?, ?it/s]"
      ]
     },
     "metadata": {},
     "output_type": "display_data"
    },
    {
     "name": "stdout",
     "output_type": "stream",
     "text": [
      "Đang đánh giá... .. Hoàn thành!\n",
      "Đã đánh giá 100 mẫu\n",
      "\n",
      "Epoch 10/30 - Time: 56.4s\n",
      "  Train Loss: 0.5020, Val Loss: 0.5345\n",
      "  Accuracy: 0.2000, CER: 0.5804\n",
      "  Learning Rate: 0.0005000\n",
      "\n",
      "Mẫu dự đoán:\n",
      "  Mẫu 1:\n",
      "  Dự đoán: 'NHÀ SÁCH GD-TC CẨM PHẢ'\n",
      "  Thực tế: 'NHÀ SÁCH GD-TC CẨM PHẢ'\n",
      "\n",
      "  Mẫu 2:\n",
      "  Dự đoán: 'Thôn Phú Thuỵ, Xã Phú Thị, Huyện Gia Lâm, TP Hà Nội'\n",
      "  Thực tế: 'ĐC: 212 Đường Trần Phú-Cẩm Phả'\n",
      "\n",
      "  Mẫu 3:\n",
      "  Dự đoán: 'Thời gian: 10:09:3 - 14/08/2020'\n",
      "  Thực tế: 'Thời gian 10:44:08-15/08/2020'\n",
      "\n",
      "  Mẫu 4:\n",
      "  Dự đoán: 'Tổng số thanh toán'\n",
      "  Thực tế: 'Tổng số thanh toán:'\n",
      "\n",
      "  Mẫu 5:\n",
      "  Dự đoán: '10.000đ'\n",
      "  Thực tế: '150.000đ'\n",
      "\n",
      "  Đã lưu mô hình tốt nhất với CER: 0.5804!\n",
      "  Lưu checkpoint tại epoch 10\n",
      "\n",
      "==================== Epoch 11/30 ====================\n"
     ]
    },
    {
     "data": {
      "application/vnd.jupyter.widget-view+json": {
       "model_id": "151ff45c1de14e95a60d34d4d5a9e1cc",
       "version_major": 2,
       "version_minor": 0
      },
      "text/plain": [
       "Training:   0%|          | 0/331 [00:00<?, ?it/s]"
      ]
     },
     "metadata": {},
     "output_type": "display_data"
    },
    {
     "data": {
      "application/vnd.jupyter.widget-view+json": {
       "model_id": "a55423b995a84e9fa34aec91f134a9be",
       "version_major": 2,
       "version_minor": 0
      },
      "text/plain": [
       "Validation:   0%|          | 0/82 [00:00<?, ?it/s]"
      ]
     },
     "metadata": {},
     "output_type": "display_data"
    },
    {
     "name": "stdout",
     "output_type": "stream",
     "text": [
      "Đang đánh giá... .. Hoàn thành!\n",
      "Đã đánh giá 100 mẫu\n",
      "\n",
      "Epoch 11/30 - Time: 57.3s\n",
      "  Train Loss: 0.4815, Val Loss: 0.5372\n",
      "  Accuracy: 0.2100, CER: 0.5691\n",
      "  Learning Rate: 0.0005000\n",
      "\n",
      "Mẫu dự đoán:\n",
      "  Mẫu 1:\n",
      "  Dự đoán: 'NHÀ SÁCH GD-TC CẨM PHẢ'\n",
      "  Thực tế: 'NHÀ SÁCH GD-TC CẨM PHẢ'\n",
      "\n",
      "  Mẫu 2:\n",
      "  Dự đoán: 'Thôn Phú Thụy, Xã Phú Thị, Huyện Gia Lâm, TP Hà Nội'\n",
      "  Thực tế: 'ĐC: 212 Đường Trần Phú-Cẩm Phả'\n",
      "\n",
      "  Mẫu 3:\n",
      "  Dự đoán: 'Thời gian: 09:47:46 - 14/08/2020'\n",
      "  Thực tế: 'Thời gian 10:44:08-15/08/2020'\n",
      "\n",
      "  Mẫu 4:\n",
      "  Dự đoán: 'Tổng số thanh toán'\n",
      "  Thực tế: 'Tổng số thanh toán:'\n",
      "\n",
      "  Mẫu 5:\n",
      "  Dự đoán: '104,000'\n",
      "  Thực tế: '150.000đ'\n",
      "\n",
      "  Đã lưu mô hình tốt nhất với CER: 0.5691!\n",
      "\n",
      "==================== Epoch 12/30 ====================\n"
     ]
    },
    {
     "data": {
      "application/vnd.jupyter.widget-view+json": {
       "model_id": "e9263bac010c49988dafa01058ed19f7",
       "version_major": 2,
       "version_minor": 0
      },
      "text/plain": [
       "Training:   0%|          | 0/331 [00:00<?, ?it/s]"
      ]
     },
     "metadata": {},
     "output_type": "display_data"
    },
    {
     "data": {
      "application/vnd.jupyter.widget-view+json": {
       "model_id": "75df75da5ccf4ca1adc6fbe552294150",
       "version_major": 2,
       "version_minor": 0
      },
      "text/plain": [
       "Validation:   0%|          | 0/82 [00:00<?, ?it/s]"
      ]
     },
     "metadata": {},
     "output_type": "display_data"
    },
    {
     "name": "stdout",
     "output_type": "stream",
     "text": [
      "Đang đánh giá... .. Hoàn thành!\n",
      "Đã đánh giá 100 mẫu\n",
      "\n",
      "Epoch 12/30 - Time: 57.6s\n",
      "  Train Loss: 0.4583, Val Loss: 0.5164\n",
      "  Accuracy: 0.2200, CER: 0.5144\n",
      "  Learning Rate: 0.0005000\n",
      "\n",
      "Mẫu dự đoán:\n",
      "  Mẫu 1:\n",
      "  Dự đoán: 'NHÀ SÁCH GD-TC CẨM PHẢ'\n",
      "  Thực tế: 'NHÀ SÁCH GD-TC CẨM PHẢ'\n",
      "\n",
      "  Mẫu 2:\n",
      "  Dự đoán: 'ĐC: 212 Đường Trần Phú-Cẩm Phả'\n",
      "  Thực tế: 'ĐC: 212 Đường Trần Phú-Cẩm Phả'\n",
      "\n",
      "  Mẫu 3:\n",
      "  Dự đoán: 'Thời gian: 10:45:27 - 14/08/2020'\n",
      "  Thực tế: 'Thời gian 10:44:08-15/08/2020'\n",
      "\n",
      "  Mẫu 4:\n",
      "  Dự đoán: 'Tổng số thanh toán'\n",
      "  Thực tế: 'Tổng số thanh toán:'\n",
      "\n",
      "  Mẫu 5:\n",
      "  Dự đoán: '10.000đ'\n",
      "  Thực tế: '150.000đ'\n",
      "\n",
      "  Đã lưu mô hình tốt nhất với CER: 0.5144!\n",
      "\n",
      "==================== Epoch 13/30 ====================\n"
     ]
    },
    {
     "data": {
      "application/vnd.jupyter.widget-view+json": {
       "model_id": "c797c46abe464386abb5d8c80dd424a2",
       "version_major": 2,
       "version_minor": 0
      },
      "text/plain": [
       "Training:   0%|          | 0/331 [00:00<?, ?it/s]"
      ]
     },
     "metadata": {},
     "output_type": "display_data"
    },
    {
     "data": {
      "application/vnd.jupyter.widget-view+json": {
       "model_id": "d5b782088575439ca9e88bd72de95495",
       "version_major": 2,
       "version_minor": 0
      },
      "text/plain": [
       "Validation:   0%|          | 0/82 [00:00<?, ?it/s]"
      ]
     },
     "metadata": {},
     "output_type": "display_data"
    },
    {
     "name": "stdout",
     "output_type": "stream",
     "text": [
      "Đang đánh giá... .. Hoàn thành!\n",
      "Đã đánh giá 100 mẫu\n",
      "\n",
      "Epoch 13/30 - Time: 57.4s\n",
      "  Train Loss: 0.4409, Val Loss: 0.5085\n",
      "  Accuracy: 0.2400, CER: 0.5008\n",
      "  Learning Rate: 0.0005000\n",
      "\n",
      "Mẫu dự đoán:\n",
      "  Mẫu 1:\n",
      "  Dự đoán: 'NHÀ SÁCH GD-TC CẨM PHẢ'\n",
      "  Thực tế: 'NHÀ SÁCH GD-TC CẨM PHẢ'\n",
      "\n",
      "  Mẫu 2:\n",
      "  Dự đoán: 'ĐC: 212 Đường Trần Phú-Cẩm Phả'\n",
      "  Thực tế: 'ĐC: 212 Đường Trần Phú-Cẩm Phả'\n",
      "\n",
      "  Mẫu 3:\n",
      "  Dự đoán: 'Thời gian: 10:09:2020 09:14'\n",
      "  Thực tế: 'Thời gian 10:44:08-15/08/2020'\n",
      "\n",
      "  Mẫu 4:\n",
      "  Dự đoán: 'Tổng số thanh toán'\n",
      "  Thực tế: 'Tổng số thanh toán:'\n",
      "\n",
      "  Mẫu 5:\n",
      "  Dự đoán: '104.000đ'\n",
      "  Thực tế: '150.000đ'\n",
      "\n",
      "  Đã lưu mô hình tốt nhất với CER: 0.5008!\n",
      "\n",
      "==================== Epoch 14/30 ====================\n"
     ]
    },
    {
     "data": {
      "application/vnd.jupyter.widget-view+json": {
       "model_id": "49a1a3dcc6394d38bf8a57eeffb3bbb7",
       "version_major": 2,
       "version_minor": 0
      },
      "text/plain": [
       "Training:   0%|          | 0/331 [00:00<?, ?it/s]"
      ]
     },
     "metadata": {},
     "output_type": "display_data"
    },
    {
     "data": {
      "application/vnd.jupyter.widget-view+json": {
       "model_id": "094ac6e251d14b72a6c1c42661f3cb99",
       "version_major": 2,
       "version_minor": 0
      },
      "text/plain": [
       "Validation:   0%|          | 0/82 [00:00<?, ?it/s]"
      ]
     },
     "metadata": {},
     "output_type": "display_data"
    },
    {
     "name": "stdout",
     "output_type": "stream",
     "text": [
      "Đang đánh giá... .. Hoàn thành!\n",
      "Đã đánh giá 100 mẫu\n",
      "\n",
      "Epoch 14/30 - Time: 56.4s\n",
      "  Train Loss: 0.4258, Val Loss: 0.5034\n",
      "  Accuracy: 0.2700, CER: 0.4583\n",
      "  Learning Rate: 0.0005000\n",
      "\n",
      "Mẫu dự đoán:\n",
      "  Mẫu 1:\n",
      "  Dự đoán: 'NHÀ SÁCH GD-TC CẨM PHẢ'\n",
      "  Thực tế: 'NHÀ SÁCH GD-TC CẨM PHẢ'\n",
      "\n",
      "  Mẫu 2:\n",
      "  Dự đoán: 'Tang 1,SH42 - Toa K3, Cong trinh chung cu'\n",
      "  Thực tế: 'ĐC: 212 Đường Trần Phú-Cẩm Phả'\n",
      "\n",
      "  Mẫu 3:\n",
      "  Dự đoán: 'Thời gian: 10:09:13 - 14/08/2020'\n",
      "  Thực tế: 'Thời gian 10:44:08-15/08/2020'\n",
      "\n",
      "  Mẫu 4:\n",
      "  Dự đoán: 'Tổng số thanh toán'\n",
      "  Thực tế: 'Tổng số thanh toán:'\n",
      "\n",
      "  Mẫu 5:\n",
      "  Dự đoán: '13/08/2020'\n",
      "  Thực tế: '150.000đ'\n",
      "\n",
      "  Đã lưu mô hình tốt nhất với CER: 0.4583!\n",
      "\n",
      "==================== Epoch 15/30 ====================\n"
     ]
    },
    {
     "data": {
      "application/vnd.jupyter.widget-view+json": {
       "model_id": "f0bedae336e34e26bd62b9c96fc9de2a",
       "version_major": 2,
       "version_minor": 0
      },
      "text/plain": [
       "Training:   0%|          | 0/331 [00:00<?, ?it/s]"
      ]
     },
     "metadata": {},
     "output_type": "display_data"
    },
    {
     "data": {
      "application/vnd.jupyter.widget-view+json": {
       "model_id": "e73760ffb77b4c09b67cb96feb979785",
       "version_major": 2,
       "version_minor": 0
      },
      "text/plain": [
       "Validation:   0%|          | 0/82 [00:00<?, ?it/s]"
      ]
     },
     "metadata": {},
     "output_type": "display_data"
    },
    {
     "name": "stdout",
     "output_type": "stream",
     "text": [
      "Đang đánh giá... .. Hoàn thành!\n",
      "Đã đánh giá 100 mẫu\n",
      "\n",
      "Epoch 15/30 - Time: 57.5s\n",
      "  Train Loss: 0.4126, Val Loss: 0.4922\n",
      "  Accuracy: 0.2500, CER: 0.5129\n",
      "  Learning Rate: 0.0005000\n",
      "\n",
      "Mẫu dự đoán:\n",
      "  Mẫu 1:\n",
      "  Dự đoán: 'NHÀ SÁCH GD-TC CẨM PHẢ'\n",
      "  Thực tế: 'NHÀ SÁCH GD-TC CẨM PHẢ'\n",
      "\n",
      "  Mẫu 2:\n",
      "  Dự đoán: 'ĐC: 212 Đường Trần Phú-Cẩm Phả'\n",
      "  Thực tế: 'ĐC: 212 Đường Trần Phú-Cẩm Phả'\n",
      "\n",
      "  Mẫu 3:\n",
      "  Dự đoán: 'Thời gian: 16:09:20200949'\n",
      "  Thực tế: 'Thời gian 10:44:08-15/08/2020'\n",
      "\n",
      "  Mẫu 4:\n",
      "  Dự đoán: 'Tổng số thanh toán'\n",
      "  Thực tế: 'Tổng số thanh toán:'\n",
      "\n",
      "  Mẫu 5:\n",
      "  Dự đoán: '10.000đ'\n",
      "  Thực tế: '150.000đ'\n",
      "\n",
      "  Không cải thiện CER. Còn 9 epochs nữa sẽ dừng early stopping.\n",
      "  Lưu checkpoint tại epoch 15\n",
      "\n",
      "==================== Epoch 16/30 ====================\n"
     ]
    },
    {
     "data": {
      "application/vnd.jupyter.widget-view+json": {
       "model_id": "bd7fb78541cd476893bf833e2c6e78af",
       "version_major": 2,
       "version_minor": 0
      },
      "text/plain": [
       "Training:   0%|          | 0/331 [00:00<?, ?it/s]"
      ]
     },
     "metadata": {},
     "output_type": "display_data"
    },
    {
     "data": {
      "application/vnd.jupyter.widget-view+json": {
       "model_id": "ebe7eacf26704ababbc29f292f864788",
       "version_major": 2,
       "version_minor": 0
      },
      "text/plain": [
       "Validation:   0%|          | 0/82 [00:00<?, ?it/s]"
      ]
     },
     "metadata": {},
     "output_type": "display_data"
    },
    {
     "name": "stdout",
     "output_type": "stream",
     "text": [
      "Đang đánh giá... .. Hoàn thành!\n",
      "Đã đánh giá 100 mẫu\n",
      "\n",
      "Epoch 16/30 - Time: 57.6s\n",
      "  Train Loss: 0.3911, Val Loss: 0.4844\n",
      "  Accuracy: 0.2400, CER: 0.5181\n",
      "  Learning Rate: 0.0005000\n",
      "\n",
      "Mẫu dự đoán:\n",
      "  Mẫu 1:\n",
      "  Dự đoán: 'NHÀ SÁCH GD-TC CẨM PHẢ'\n",
      "  Thực tế: 'NHÀ SÁCH GD-TC CẨM PHẢ'\n",
      "\n",
      "  Mẫu 2:\n",
      "  Dự đoán: 'Thôn Phú Thuỵ, Xã Phú Thị, Huyện Gia Lâm, TP Hà Nội'\n",
      "  Thực tế: 'ĐC: 212 Đường Trần Phú-Cẩm Phả'\n",
      "\n",
      "  Mẫu 3:\n",
      "  Dự đoán: 'Thời gian: 01.10.2020 09.09'\n",
      "  Thực tế: 'Thời gian 10:44:08-15/08/2020'\n",
      "\n",
      "  Mẫu 4:\n",
      "  Dự đoán: 'Tổng số thanh toán:'\n",
      "  Thực tế: 'Tổng số thanh toán:'\n",
      "\n",
      "  Mẫu 5:\n",
      "  Dự đoán: '100.000đ'\n",
      "  Thực tế: '150.000đ'\n",
      "\n",
      "  Không cải thiện CER. Còn 8 epochs nữa sẽ dừng early stopping.\n",
      "\n",
      "==================== Epoch 17/30 ====================\n"
     ]
    },
    {
     "data": {
      "application/vnd.jupyter.widget-view+json": {
       "model_id": "1ae1376511ae4c7e96b552a16149a019",
       "version_major": 2,
       "version_minor": 0
      },
      "text/plain": [
       "Training:   0%|          | 0/331 [00:00<?, ?it/s]"
      ]
     },
     "metadata": {},
     "output_type": "display_data"
    },
    {
     "data": {
      "application/vnd.jupyter.widget-view+json": {
       "model_id": "024cbbe738544e72bee48abd78f9acbf",
       "version_major": 2,
       "version_minor": 0
      },
      "text/plain": [
       "Validation:   0%|          | 0/82 [00:00<?, ?it/s]"
      ]
     },
     "metadata": {},
     "output_type": "display_data"
    },
    {
     "name": "stdout",
     "output_type": "stream",
     "text": [
      "Đang đánh giá... .. Hoàn thành!\n",
      "Đã đánh giá 100 mẫu\n",
      "\n",
      "Epoch 17/30 - Time: 57.4s\n",
      "  Train Loss: 0.3810, Val Loss: 0.4947\n",
      "  Accuracy: 0.2900, CER: 0.3846\n",
      "  Learning Rate: 0.0005000\n",
      "\n",
      "Mẫu dự đoán:\n",
      "  Mẫu 1:\n",
      "  Dự đoán: 'NHÀ SÁCH GD-TC CẨM PHẢ'\n",
      "  Thực tế: 'NHÀ SÁCH GD-TC CẨM PHẢ'\n",
      "\n",
      "  Mẫu 2:\n",
      "  Dự đoán: '104 Trần Phú - phường Cẩm Tây - Thành phố Cẩm'\n",
      "  Thực tế: 'ĐC: 212 Đường Trần Phú-Cẩm Phả'\n",
      "\n",
      "  Mẫu 3:\n",
      "  Dự đoán: 'Thời gian: 08:09:20 - 15/08/2020'\n",
      "  Thực tế: 'Thời gian 10:44:08-15/08/2020'\n",
      "\n",
      "  Mẫu 4:\n",
      "  Dự đoán: 'Tổng số thanh toán'\n",
      "  Thực tế: 'Tổng số thanh toán:'\n",
      "\n",
      "  Mẫu 5:\n",
      "  Dự đoán: '10.000đ'\n",
      "  Thực tế: '150.000đ'\n",
      "\n",
      "  Đã lưu mô hình tốt nhất với CER: 0.3846!\n",
      "\n",
      "==================== Epoch 18/30 ====================\n"
     ]
    },
    {
     "data": {
      "application/vnd.jupyter.widget-view+json": {
       "model_id": "d981c4794bf246a98f69edda1de3c328",
       "version_major": 2,
       "version_minor": 0
      },
      "text/plain": [
       "Training:   0%|          | 0/331 [00:00<?, ?it/s]"
      ]
     },
     "metadata": {},
     "output_type": "display_data"
    },
    {
     "data": {
      "application/vnd.jupyter.widget-view+json": {
       "model_id": "0b26479f08444c4d903800f687825959",
       "version_major": 2,
       "version_minor": 0
      },
      "text/plain": [
       "Validation:   0%|          | 0/82 [00:00<?, ?it/s]"
      ]
     },
     "metadata": {},
     "output_type": "display_data"
    },
    {
     "name": "stdout",
     "output_type": "stream",
     "text": [
      "Đang đánh giá... .. Hoàn thành!\n",
      "Đã đánh giá 100 mẫu\n",
      "\n",
      "Epoch 18/30 - Time: 58.1s\n",
      "  Train Loss: 0.3722, Val Loss: 0.4828\n",
      "  Accuracy: 0.2500, CER: 0.4764\n",
      "  Learning Rate: 0.0005000\n",
      "\n",
      "Mẫu dự đoán:\n",
      "  Mẫu 1:\n",
      "  Dự đoán: 'NHÀ SÁCH GD-TC CẨM PHẢ'\n",
      "  Thực tế: 'NHÀ SÁCH GD-TC CẨM PHẢ'\n",
      "\n",
      "  Mẫu 2:\n",
      "  Dự đoán: 'Ngày bán: 15/08/2020 09:09'\n",
      "  Thực tế: 'ĐC: 212 Đường Trần Phú-Cẩm Phả'\n",
      "\n",
      "  Mẫu 3:\n",
      "  Dự đoán: 'Thời gian: 09:20:46 - 14/08/2020'\n",
      "  Thực tế: 'Thời gian 10:44:08-15/08/2020'\n",
      "\n",
      "  Mẫu 4:\n",
      "  Dự đoán: 'Tổng cộng cộng (đã gồm VAT)'\n",
      "  Thực tế: 'Tổng số thanh toán:'\n",
      "\n",
      "  Mẫu 5:\n",
      "  Dự đoán: '10.000đ'\n",
      "  Thực tế: '150.000đ'\n",
      "\n",
      "  Không cải thiện CER. Còn 9 epochs nữa sẽ dừng early stopping.\n",
      "\n",
      "==================== Epoch 19/30 ====================\n"
     ]
    },
    {
     "data": {
      "application/vnd.jupyter.widget-view+json": {
       "model_id": "0631406a3c0949cb9c197859cc8f109b",
       "version_major": 2,
       "version_minor": 0
      },
      "text/plain": [
       "Training:   0%|          | 0/331 [00:00<?, ?it/s]"
      ]
     },
     "metadata": {},
     "output_type": "display_data"
    },
    {
     "data": {
      "application/vnd.jupyter.widget-view+json": {
       "model_id": "265b6c99c6e94ee78944760aa9560c44",
       "version_major": 2,
       "version_minor": 0
      },
      "text/plain": [
       "Validation:   0%|          | 0/82 [00:00<?, ?it/s]"
      ]
     },
     "metadata": {},
     "output_type": "display_data"
    },
    {
     "name": "stdout",
     "output_type": "stream",
     "text": [
      "Đang đánh giá... .. Hoàn thành!\n",
      "Đã đánh giá 100 mẫu\n",
      "\n",
      "Epoch 19/30 - Time: 57.9s\n",
      "  Train Loss: 0.3627, Val Loss: 0.4868\n",
      "  Accuracy: 0.3000, CER: 0.3866\n",
      "  Learning Rate: 0.0005000\n",
      "\n",
      "Mẫu dự đoán:\n",
      "  Mẫu 1:\n",
      "  Dự đoán: 'NHÀ SÁCH GD-TC CẨM PHẢ'\n",
      "  Thực tế: 'NHÀ SÁCH GD-TC CẨM PHẢ'\n",
      "\n",
      "  Mẫu 2:\n",
      "  Dự đoán: 'ĐC: 212 Đường Trần Phú-Cẩm Phả'\n",
      "  Thực tế: 'ĐC: 212 Đường Trần Phú-Cẩm Phả'\n",
      "\n",
      "  Mẫu 3:\n",
      "  Dự đoán: 'Thời gian: 09:53:24 - 14/08/2020'\n",
      "  Thực tế: 'Thời gian 10:44:08-15/08/2020'\n",
      "\n",
      "  Mẫu 4:\n",
      "  Dự đoán: 'Tổng số thanh toán:'\n",
      "  Thực tế: 'Tổng số thanh toán:'\n",
      "\n",
      "  Mẫu 5:\n",
      "  Dự đoán: '50.000đ'\n",
      "  Thực tế: '150.000đ'\n",
      "\n",
      "  Không cải thiện CER. Còn 8 epochs nữa sẽ dừng early stopping.\n",
      "\n",
      "==================== Epoch 20/30 ====================\n"
     ]
    },
    {
     "data": {
      "application/vnd.jupyter.widget-view+json": {
       "model_id": "761c74f31c864bdf8a9f8d58edcdb138",
       "version_major": 2,
       "version_minor": 0
      },
      "text/plain": [
       "Training:   0%|          | 0/331 [00:00<?, ?it/s]"
      ]
     },
     "metadata": {},
     "output_type": "display_data"
    },
    {
     "data": {
      "application/vnd.jupyter.widget-view+json": {
       "model_id": "03054e0e058f4323875b62038e3b32d7",
       "version_major": 2,
       "version_minor": 0
      },
      "text/plain": [
       "Validation:   0%|          | 0/82 [00:00<?, ?it/s]"
      ]
     },
     "metadata": {},
     "output_type": "display_data"
    },
    {
     "name": "stdout",
     "output_type": "stream",
     "text": [
      "Đang đánh giá... .. Hoàn thành!\n",
      "Đã đánh giá 100 mẫu\n",
      "\n",
      "Epoch 20/30 - Time: 56.9s\n",
      "  Train Loss: 0.3571, Val Loss: 0.4784\n",
      "  Accuracy: 0.2900, CER: 0.3851\n",
      "  Learning Rate: 0.0005000\n",
      "\n",
      "Mẫu dự đoán:\n",
      "  Mẫu 1:\n",
      "  Dự đoán: 'NHÀ SÁCH GD-TC CẨM PHẢ'\n",
      "  Thực tế: 'NHÀ SÁCH GD-TC CẨM PHẢ'\n",
      "\n",
      "  Mẫu 2:\n",
      "  Dự đoán: 'ĐC: 212 Đường Trần Phú-Cẩm Phả'\n",
      "  Thực tế: 'ĐC: 212 Đường Trần Phú-Cẩm Phả'\n",
      "\n",
      "  Mẫu 3:\n",
      "  Dự đoán: 'Thời gian: 09:10:44 - 15/08/2020'\n",
      "  Thực tế: 'Thời gian 10:44:08-15/08/2020'\n",
      "\n",
      "  Mẫu 4:\n",
      "  Dự đoán: 'Tổng số thanh toán:'\n",
      "  Thực tế: 'Tổng số thanh toán:'\n",
      "\n",
      "  Mẫu 5:\n",
      "  Dự đoán: '10.000đ'\n",
      "  Thực tế: '150.000đ'\n",
      "\n",
      "  Không cải thiện CER. Còn 7 epochs nữa sẽ dừng early stopping.\n",
      "  Lưu checkpoint tại epoch 20\n",
      "\n",
      "==================== Epoch 21/30 ====================\n"
     ]
    },
    {
     "data": {
      "application/vnd.jupyter.widget-view+json": {
       "model_id": "e53b4d2a617e430e8710aa061724e26a",
       "version_major": 2,
       "version_minor": 0
      },
      "text/plain": [
       "Training:   0%|          | 0/331 [00:00<?, ?it/s]"
      ]
     },
     "metadata": {},
     "output_type": "display_data"
    },
    {
     "data": {
      "application/vnd.jupyter.widget-view+json": {
       "model_id": "d94ba422311843a2ba3e69c39179961d",
       "version_major": 2,
       "version_minor": 0
      },
      "text/plain": [
       "Validation:   0%|          | 0/82 [00:00<?, ?it/s]"
      ]
     },
     "metadata": {},
     "output_type": "display_data"
    },
    {
     "name": "stdout",
     "output_type": "stream",
     "text": [
      "Đang đánh giá... .. Hoàn thành!\n",
      "Đã đánh giá 100 mẫu\n",
      "\n",
      "Epoch 21/30 - Time: 54.8s\n",
      "  Train Loss: 0.3428, Val Loss: 0.4704\n",
      "  Accuracy: 0.2900, CER: 0.3933\n",
      "  Learning Rate: 0.0005000\n",
      "\n",
      "Mẫu dự đoán:\n",
      "  Mẫu 1:\n",
      "  Dự đoán: 'NHÀ SÁCH GD-TC CẨM PHẢ'\n",
      "  Thực tế: 'NHÀ SÁCH GD-TC CẨM PHẢ'\n",
      "\n",
      "  Mẫu 2:\n",
      "  Dự đoán: 'ĐC: 212 Đường Trần Phú-Cẩm Phả'\n",
      "  Thực tế: 'ĐC: 212 Đường Trần Phú-Cẩm Phả'\n",
      "\n",
      "  Mẫu 3:\n",
      "  Dự đoán: 'Thời gian: 10:29:2020 09:09'\n",
      "  Thực tế: 'Thời gian 10:44:08-15/08/2020'\n",
      "\n",
      "  Mẫu 4:\n",
      "  Dự đoán: 'Tổng số thanh toán'\n",
      "  Thực tế: 'Tổng số thanh toán:'\n",
      "\n",
      "  Mẫu 5:\n",
      "  Dự đoán: '10.000đ'\n",
      "  Thực tế: '150.000đ'\n",
      "\n",
      "  Không cải thiện CER. Còn 6 epochs nữa sẽ dừng early stopping.\n",
      "\n",
      "==================== Epoch 22/30 ====================\n"
     ]
    },
    {
     "data": {
      "application/vnd.jupyter.widget-view+json": {
       "model_id": "9207ea5abba04ea6aed4b42a98c77cbf",
       "version_major": 2,
       "version_minor": 0
      },
      "text/plain": [
       "Training:   0%|          | 0/331 [00:00<?, ?it/s]"
      ]
     },
     "metadata": {},
     "output_type": "display_data"
    },
    {
     "data": {
      "application/vnd.jupyter.widget-view+json": {
       "model_id": "702faaeb59f4428a8e556c5eb81bedf4",
       "version_major": 2,
       "version_minor": 0
      },
      "text/plain": [
       "Validation:   0%|          | 0/82 [00:00<?, ?it/s]"
      ]
     },
     "metadata": {},
     "output_type": "display_data"
    },
    {
     "name": "stdout",
     "output_type": "stream",
     "text": [
      "Đang đánh giá... .. Hoàn thành!\n",
      "Đã đánh giá 100 mẫu\n",
      "\n",
      "Epoch 22/30 - Time: 55.4s\n",
      "  Train Loss: 0.3365, Val Loss: 0.4768\n",
      "  Accuracy: 0.2300, CER: 0.4834\n",
      "  Learning Rate: 0.0005000\n",
      "\n",
      "Mẫu dự đoán:\n",
      "  Mẫu 1:\n",
      "  Dự đoán: 'NHÀ SÁCH GD-TC CẨM PHẢ'\n",
      "  Thực tế: 'NHÀ SÁCH GD-TC CẨM PHẢ'\n",
      "\n",
      "  Mẫu 2:\n",
      "  Dự đoán: 'Ngày bán: 09/08/2020 08:36'\n",
      "  Thực tế: 'ĐC: 212 Đường Trần Phú-Cẩm Phả'\n",
      "\n",
      "  Mẫu 3:\n",
      "  Dự đoán: 'Thời gian: 08:48:43 - 14/08/2020'\n",
      "  Thực tế: 'Thời gian 10:44:08-15/08/2020'\n",
      "\n",
      "  Mẫu 4:\n",
      "  Dự đoán: 'Tổng số thanh toán'\n",
      "  Thực tế: 'Tổng số thanh toán:'\n",
      "\n",
      "  Mẫu 5:\n",
      "  Dự đoán: '10.000đ'\n",
      "  Thực tế: '150.000đ'\n",
      "\n",
      "  Không cải thiện CER. Còn 5 epochs nữa sẽ dừng early stopping.\n",
      "\n",
      "==================== Epoch 23/30 ====================\n"
     ]
    },
    {
     "data": {
      "application/vnd.jupyter.widget-view+json": {
       "model_id": "85d304d12ca24122a31354db66a6f8c6",
       "version_major": 2,
       "version_minor": 0
      },
      "text/plain": [
       "Training:   0%|          | 0/331 [00:00<?, ?it/s]"
      ]
     },
     "metadata": {},
     "output_type": "display_data"
    },
    {
     "data": {
      "application/vnd.jupyter.widget-view+json": {
       "model_id": "65443550e99b4923ae78f1ab9842ee83",
       "version_major": 2,
       "version_minor": 0
      },
      "text/plain": [
       "Validation:   0%|          | 0/82 [00:00<?, ?it/s]"
      ]
     },
     "metadata": {},
     "output_type": "display_data"
    },
    {
     "name": "stdout",
     "output_type": "stream",
     "text": [
      "Đang đánh giá... .. Hoàn thành!\n",
      "Đã đánh giá 100 mẫu\n",
      "\n",
      "Epoch 23/30 - Time: 54.7s\n",
      "  Train Loss: 0.3287, Val Loss: 0.4644\n",
      "  Accuracy: 0.3200, CER: 0.3630\n",
      "  Learning Rate: 0.0005000\n",
      "\n",
      "Mẫu dự đoán:\n",
      "  Mẫu 1:\n",
      "  Dự đoán: 'NHÀ SÁCH GD-TC CẨM PHẢ'\n",
      "  Thực tế: 'NHÀ SÁCH GD-TC CẨM PHẢ'\n",
      "\n",
      "  Mẫu 2:\n",
      "  Dự đoán: 'DA QĐ doc tuyến ĐS Tổ 3 Khu 2'\n",
      "  Thực tế: 'ĐC: 212 Đường Trần Phú-Cẩm Phả'\n",
      "\n",
      "  Mẫu 3:\n",
      "  Dự đoán: 'Thời gian: 09:09:20200000444444444.140.000000000000'\n",
      "  Thực tế: 'Thời gian 10:44:08-15/08/2020'\n",
      "\n",
      "  Mẫu 4:\n",
      "  Dự đoán: 'Tổng số thanh toán'\n",
      "  Thực tế: 'Tổng số thanh toán:'\n",
      "\n",
      "  Mẫu 5:\n",
      "  Dự đoán: '10.000đ'\n",
      "  Thực tế: '150.000đ'\n",
      "\n",
      "  Đã lưu mô hình tốt nhất với CER: 0.3630!\n",
      "\n",
      "==================== Epoch 24/30 ====================\n"
     ]
    },
    {
     "data": {
      "application/vnd.jupyter.widget-view+json": {
       "model_id": "b9697364738849e5ab764a15e39bbae5",
       "version_major": 2,
       "version_minor": 0
      },
      "text/plain": [
       "Training:   0%|          | 0/331 [00:00<?, ?it/s]"
      ]
     },
     "metadata": {},
     "output_type": "display_data"
    },
    {
     "data": {
      "application/vnd.jupyter.widget-view+json": {
       "model_id": "4fe5b4c2edc14f44ae96a7fe54b09c37",
       "version_major": 2,
       "version_minor": 0
      },
      "text/plain": [
       "Validation:   0%|          | 0/82 [00:00<?, ?it/s]"
      ]
     },
     "metadata": {},
     "output_type": "display_data"
    },
    {
     "name": "stdout",
     "output_type": "stream",
     "text": [
      "Đang đánh giá... .. Hoàn thành!\n",
      "Đã đánh giá 100 mẫu\n",
      "\n",
      "Epoch 24/30 - Time: 54.9s\n",
      "  Train Loss: 0.3171, Val Loss: 0.4704\n",
      "  Accuracy: 0.2900, CER: 0.3944\n",
      "  Learning Rate: 0.0005000\n",
      "\n",
      "Mẫu dự đoán:\n",
      "  Mẫu 1:\n",
      "  Dự đoán: 'NHÀ SÁCH GD-TC CẨM PHẢ'\n",
      "  Thực tế: 'NHÀ SÁCH GD-TC CẨM PHẢ'\n",
      "\n",
      "  Mẫu 2:\n",
      "  Dự đoán: 'ĐC: 212 Đường Trần Phú-Cẩm Phả'\n",
      "  Thực tế: 'ĐC: 212 Đường Trần Phú-Cẩm Phả'\n",
      "\n",
      "  Mẫu 3:\n",
      "  Dự đoán: 'Thời gian: 09:09:20 09:55'\n",
      "  Thực tế: 'Thời gian 10:44:08-15/08/2020'\n",
      "\n",
      "  Mẫu 4:\n",
      "  Dự đoán: 'Tổng số thanh toán:'\n",
      "  Thực tế: 'Tổng số thanh toán:'\n",
      "\n",
      "  Mẫu 5:\n",
      "  Dự đoán: '100.000đ'\n",
      "  Thực tế: '150.000đ'\n",
      "\n",
      "  Không cải thiện CER. Còn 9 epochs nữa sẽ dừng early stopping.\n",
      "\n",
      "==================== Epoch 25/30 ====================\n"
     ]
    },
    {
     "data": {
      "application/vnd.jupyter.widget-view+json": {
       "model_id": "a5cf3148bb0b4ffabd181a07cac08bf7",
       "version_major": 2,
       "version_minor": 0
      },
      "text/plain": [
       "Training:   0%|          | 0/331 [00:00<?, ?it/s]"
      ]
     },
     "metadata": {},
     "output_type": "display_data"
    },
    {
     "data": {
      "application/vnd.jupyter.widget-view+json": {
       "model_id": "0370905399c94791be14d2b74b9ef973",
       "version_major": 2,
       "version_minor": 0
      },
      "text/plain": [
       "Validation:   0%|          | 0/82 [00:00<?, ?it/s]"
      ]
     },
     "metadata": {},
     "output_type": "display_data"
    },
    {
     "name": "stdout",
     "output_type": "stream",
     "text": [
      "Đang đánh giá... .. Hoàn thành!\n",
      "Đã đánh giá 100 mẫu\n",
      "\n",
      "Epoch 25/30 - Time: 54.8s\n",
      "  Train Loss: 0.3113, Val Loss: 0.4672\n",
      "  Accuracy: 0.3300, CER: 0.3333\n",
      "  Learning Rate: 0.0005000\n",
      "\n",
      "Mẫu dự đoán:\n",
      "  Mẫu 1:\n",
      "  Dự đoán: 'NHÀ SÁCH GD-TC CẨM PHẢ'\n",
      "  Thực tế: 'NHÀ SÁCH GD-TC CẨM PHẢ'\n",
      "\n",
      "  Mẫu 2:\n",
      "  Dự đoán: 'ĐC: 212 Đường Trần Phú-Cẩm Phả'\n",
      "  Thực tế: 'ĐC: 212 Đường Trần Phú-Cẩm Phả'\n",
      "\n",
      "  Mẫu 3:\n",
      "  Dự đoán: 'Thời gian: 10:09:2020200'\n",
      "  Thực tế: 'Thời gian 10:44:08-15/08/2020'\n",
      "\n",
      "  Mẫu 4:\n",
      "  Dự đoán: 'Tổng số thanh toán'\n",
      "  Thực tế: 'Tổng số thanh toán:'\n",
      "\n",
      "  Mẫu 5:\n",
      "  Dự đoán: '10.000đ'\n",
      "  Thực tế: '150.000đ'\n",
      "\n",
      "  Đã lưu mô hình tốt nhất với CER: 0.3333!\n",
      "  Lưu checkpoint tại epoch 25\n",
      "\n",
      "==================== Epoch 26/30 ====================\n"
     ]
    },
    {
     "data": {
      "application/vnd.jupyter.widget-view+json": {
       "model_id": "87abf2f345874448b2e7d57b67a7a631",
       "version_major": 2,
       "version_minor": 0
      },
      "text/plain": [
       "Training:   0%|          | 0/331 [00:00<?, ?it/s]"
      ]
     },
     "metadata": {},
     "output_type": "display_data"
    },
    {
     "data": {
      "application/vnd.jupyter.widget-view+json": {
       "model_id": "774071eabe5d4393b5879d071ae16420",
       "version_major": 2,
       "version_minor": 0
      },
      "text/plain": [
       "Validation:   0%|          | 0/82 [00:00<?, ?it/s]"
      ]
     },
     "metadata": {},
     "output_type": "display_data"
    },
    {
     "name": "stdout",
     "output_type": "stream",
     "text": [
      "Đang đánh giá... .. Hoàn thành!\n",
      "Đã đánh giá 100 mẫu\n",
      "\n",
      "Epoch 26/30 - Time: 55.0s\n",
      "  Train Loss: 0.3013, Val Loss: 0.4581\n",
      "  Accuracy: 0.3000, CER: 0.3453\n",
      "  Learning Rate: 0.0005000\n",
      "\n",
      "Mẫu dự đoán:\n",
      "  Mẫu 1:\n",
      "  Dự đoán: 'NHÀ SÁCH GD-TC CẨM PHẢ'\n",
      "  Thực tế: 'NHÀ SÁCH GD-TC CẨM PHẢ'\n",
      "\n",
      "  Mẫu 2:\n",
      "  Dự đoán: 'ĐC: 212 Đường Trần Phú-Cẩm Phả'\n",
      "  Thực tế: 'ĐC: 212 Đường Trần Phú-Cẩm Phả'\n",
      "\n",
      "  Mẫu 3:\n",
      "  Dự đoán: 'Thời gian: 09:09:2020 09:09'\n",
      "  Thực tế: 'Thời gian 10:44:08-15/08/2020'\n",
      "\n",
      "  Mẫu 4:\n",
      "  Dự đoán: 'Tổng số thanh toán'\n",
      "  Thực tế: 'Tổng số thanh toán:'\n",
      "\n",
      "  Mẫu 5:\n",
      "  Dự đoán: '10.000đ'\n",
      "  Thực tế: '150.000đ'\n",
      "\n",
      "  Không cải thiện CER. Còn 9 epochs nữa sẽ dừng early stopping.\n",
      "\n",
      "==================== Epoch 27/30 ====================\n"
     ]
    },
    {
     "data": {
      "application/vnd.jupyter.widget-view+json": {
       "model_id": "4d99542ded864f718823009763dada6d",
       "version_major": 2,
       "version_minor": 0
      },
      "text/plain": [
       "Training:   0%|          | 0/331 [00:00<?, ?it/s]"
      ]
     },
     "metadata": {},
     "output_type": "display_data"
    },
    {
     "data": {
      "application/vnd.jupyter.widget-view+json": {
       "model_id": "18064ac2d7e44b73889f59aade9761f2",
       "version_major": 2,
       "version_minor": 0
      },
      "text/plain": [
       "Validation:   0%|          | 0/82 [00:00<?, ?it/s]"
      ]
     },
     "metadata": {},
     "output_type": "display_data"
    },
    {
     "name": "stdout",
     "output_type": "stream",
     "text": [
      "Đang đánh giá... .. Hoàn thành!\n",
      "Đã đánh giá 100 mẫu\n",
      "\n",
      "Epoch 27/30 - Time: 55.2s\n",
      "  Train Loss: 0.2985, Val Loss: 0.4707\n",
      "  Accuracy: 0.2900, CER: 0.3627\n",
      "  Learning Rate: 0.0005000\n",
      "\n",
      "Mẫu dự đoán:\n",
      "  Mẫu 1:\n",
      "  Dự đoán: 'NHÀ SÁCH GD-TC CẨM PHẢ'\n",
      "  Thực tế: 'NHÀ SÁCH GD-TC CẨM PHẢ'\n",
      "\n",
      "  Mẫu 2:\n",
      "  Dự đoán: 'ĐC: 212 Đường Trần Phú-Cẩm Phả'\n",
      "  Thực tế: 'ĐC: 212 Đường Trần Phú-Cẩm Phả'\n",
      "\n",
      "  Mẫu 3:\n",
      "  Dự đoán: 'Thời gian: 09:49:29 - 14/08/2020'\n",
      "  Thực tế: 'Thời gian 10:44:08-15/08/2020'\n",
      "\n",
      "  Mẫu 4:\n",
      "  Dự đoán: 'Tổng số thanh toán'\n",
      "  Thực tế: 'Tổng số thanh toán:'\n",
      "\n",
      "  Mẫu 5:\n",
      "  Dự đoán: '15.000đ'\n",
      "  Thực tế: '150.000đ'\n",
      "\n",
      "  Không cải thiện CER. Còn 8 epochs nữa sẽ dừng early stopping.\n",
      "\n",
      "==================== Epoch 28/30 ====================\n"
     ]
    },
    {
     "data": {
      "application/vnd.jupyter.widget-view+json": {
       "model_id": "ad876ef3a0cc46a4b8f6863298dd26ee",
       "version_major": 2,
       "version_minor": 0
      },
      "text/plain": [
       "Training:   0%|          | 0/331 [00:00<?, ?it/s]"
      ]
     },
     "metadata": {},
     "output_type": "display_data"
    },
    {
     "data": {
      "application/vnd.jupyter.widget-view+json": {
       "model_id": "bd035b4426cf46a38faf37e8c91c1405",
       "version_major": 2,
       "version_minor": 0
      },
      "text/plain": [
       "Validation:   0%|          | 0/82 [00:00<?, ?it/s]"
      ]
     },
     "metadata": {},
     "output_type": "display_data"
    },
    {
     "name": "stdout",
     "output_type": "stream",
     "text": [
      "Đang đánh giá... .. Hoàn thành!\n",
      "Đã đánh giá 100 mẫu\n",
      "\n",
      "Epoch 28/30 - Time: 55.4s\n",
      "  Train Loss: 0.2959, Val Loss: 0.4715\n",
      "  Accuracy: 0.3000, CER: 0.4139\n",
      "  Learning Rate: 0.0005000\n",
      "\n",
      "Mẫu dự đoán:\n",
      "  Mẫu 1:\n",
      "  Dự đoán: 'NHÀ SÁCH GD-TC CẨM PHẢ'\n",
      "  Thực tế: 'NHÀ SÁCH GD-TC CẨM PHẢ'\n",
      "\n",
      "  Mẫu 2:\n",
      "  Dự đoán: 'ĐC: 212 Đường Trần Phú-Cẩm Phả'\n",
      "  Thực tế: 'ĐC: 212 Đường Trần Phú-Cẩm Phả'\n",
      "\n",
      "  Mẫu 3:\n",
      "  Dự đoán: 'Thời gian: 10:09:44 - 14/08/2020'\n",
      "  Thực tế: 'Thời gian 10:44:08-15/08/2020'\n",
      "\n",
      "  Mẫu 4:\n",
      "  Dự đoán: 'Tổng số thanh toán'\n",
      "  Thực tế: 'Tổng số thanh toán:'\n",
      "\n",
      "  Mẫu 5:\n",
      "  Dự đoán: '10.000đ'\n",
      "  Thực tế: '150.000đ'\n",
      "\n",
      "  Không cải thiện CER. Còn 7 epochs nữa sẽ dừng early stopping.\n",
      "\n",
      "==================== Epoch 29/30 ====================\n"
     ]
    },
    {
     "data": {
      "application/vnd.jupyter.widget-view+json": {
       "model_id": "4a764adb579e40b3bd3f280b1ea8f8f1",
       "version_major": 2,
       "version_minor": 0
      },
      "text/plain": [
       "Training:   0%|          | 0/331 [00:00<?, ?it/s]"
      ]
     },
     "metadata": {},
     "output_type": "display_data"
    },
    {
     "data": {
      "application/vnd.jupyter.widget-view+json": {
       "model_id": "e7e554e37c404a309e80121bd0eb0e74",
       "version_major": 2,
       "version_minor": 0
      },
      "text/plain": [
       "Validation:   0%|          | 0/82 [00:00<?, ?it/s]"
      ]
     },
     "metadata": {},
     "output_type": "display_data"
    },
    {
     "name": "stdout",
     "output_type": "stream",
     "text": [
      "Đang đánh giá... .. Hoàn thành!\n",
      "Đã đánh giá 100 mẫu\n",
      "\n",
      "Epoch 29/30 - Time: 55.5s\n",
      "  Train Loss: 0.2887, Val Loss: 0.4713\n",
      "  Accuracy: 0.3200, CER: 0.2969\n",
      "  Learning Rate: 0.0005000\n",
      "\n",
      "Mẫu dự đoán:\n",
      "  Mẫu 1:\n",
      "  Dự đoán: 'NHÀ SÁCH GD-TC CẨM PHẢ'\n",
      "  Thực tế: 'NHÀ SÁCH GD-TC CẨM PHẢ'\n",
      "\n",
      "  Mẫu 2:\n",
      "  Dự đoán: 'ĐC: 212 Đường Trần Phú-Cẩm Phả'\n",
      "  Thực tế: 'ĐC: 212 Đường Trần Phú-Cẩm Phả'\n",
      "\n",
      "  Mẫu 3:\n",
      "  Dự đoán: 'Thời gian: 09:53:20200009.00'\n",
      "  Thực tế: 'Thời gian 10:44:08-15/08/2020'\n",
      "\n",
      "  Mẫu 4:\n",
      "  Dự đoán: 'Tổng số thanh toán'\n",
      "  Thực tế: 'Tổng số thanh toán:'\n",
      "\n",
      "  Mẫu 5:\n",
      "  Dự đoán: '10.000đ'\n",
      "  Thực tế: '150.000đ'\n",
      "\n",
      "  Đã lưu mô hình tốt nhất với CER: 0.2969!\n",
      "\n",
      "==================== Epoch 30/30 ====================\n"
     ]
    },
    {
     "data": {
      "application/vnd.jupyter.widget-view+json": {
       "model_id": "09802e08763a416cae9d0ba5217c235d",
       "version_major": 2,
       "version_minor": 0
      },
      "text/plain": [
       "Training:   0%|          | 0/331 [00:00<?, ?it/s]"
      ]
     },
     "metadata": {},
     "output_type": "display_data"
    },
    {
     "data": {
      "application/vnd.jupyter.widget-view+json": {
       "model_id": "fc52c0d82fd84d41aab9fc1fe148c425",
       "version_major": 2,
       "version_minor": 0
      },
      "text/plain": [
       "Validation:   0%|          | 0/82 [00:00<?, ?it/s]"
      ]
     },
     "metadata": {},
     "output_type": "display_data"
    },
    {
     "name": "stdout",
     "output_type": "stream",
     "text": [
      "Đang đánh giá... .. Hoàn thành!\n",
      "Đã đánh giá 100 mẫu\n",
      "\n",
      "Epoch 30/30 - Time: 55.3s\n",
      "  Train Loss: 0.2814, Val Loss: 0.4578\n",
      "  Accuracy: 0.3500, CER: 0.2771\n",
      "  Learning Rate: 0.0005000\n",
      "\n",
      "Mẫu dự đoán:\n",
      "  Mẫu 1:\n",
      "  Dự đoán: 'NHÀ SÁCH GD-TC CẨM PHẢ'\n",
      "  Thực tế: 'NHÀ SÁCH GD-TC CẨM PHẢ'\n",
      "\n",
      "  Mẫu 2:\n",
      "  Dự đoán: 'ĐC: 212 Đường Trần Phú-Cẩm Phả'\n",
      "  Thực tế: 'ĐC: 212 Đường Trần Phú-Cẩm Phả'\n",
      "\n",
      "  Mẫu 3:\n",
      "  Dự đoán: 'Thời gian: 08:42:43 - 14/08/2020'\n",
      "  Thực tế: 'Thời gian 10:44:08-15/08/2020'\n",
      "\n",
      "  Mẫu 4:\n",
      "  Dự đoán: 'Tổng số thanh toán'\n",
      "  Thực tế: 'Tổng số thanh toán:'\n",
      "\n",
      "  Mẫu 5:\n",
      "  Dự đoán: '10.000đ'\n",
      "  Thực tế: '150.000đ'\n",
      "\n",
      "  Đã lưu mô hình tốt nhất với CER: 0.2771!\n",
      "  Lưu checkpoint tại epoch 30\n",
      "\n",
      "Kết thúc huấn luyện sau 30 epochs\n",
      "Mô hình tốt nhất tại epoch 30 với CER: 0.2771\n"
     ]
    },
    {
     "name": "stderr",
     "output_type": "stream",
     "text": [
      "/tmp/ipykernel_31/1251999806.py:96: FutureWarning: You are using `torch.load` with `weights_only=False` (the current default value), which uses the default pickle module implicitly. It is possible to construct malicious pickle data which will execute arbitrary code during unpickling (See https://github.com/pytorch/pytorch/blob/main/SECURITY.md#untrusted-models for more details). In a future release, the default value for `weights_only` will be flipped to `True`. This limits the functions that could be executed during unpickling. Arbitrary objects will no longer be allowed to be loaded via this mode unless they are explicitly allowlisted by the user via `torch.serialization.add_safe_globals`. We recommend you start setting `weights_only=True` for any use case where you don't have full control of the loaded file. Please open an issue on GitHub for any issues related to this experimental feature.\n",
      "  checkpoint = torch.load(os.path.join(output_dir, 'best_model.pth'))\n"
     ]
    },
    {
     "name": "stdout",
     "output_type": "stream",
     "text": [
      "Đang đánh giá... ... Hoàn thành!\n",
      "Đã đánh giá 200 mẫu\n",
      "\n",
      "Đánh giá mô hình tốt nhất:\n",
      "Accuracy: 0.3400, CER: 0.3075\n",
      "Quá trình huấn luyện và đánh giá hoàn tất!\n"
     ]
    }
   ],
   "source": [
    "def main():\n",
    "    data_dir = '/kaggle/input/vietnamese-receipts-mc-ocr-2021'\n",
    "    images_dir = os.path.join(data_dir, 'text_recognition_mcocr_data/text_recognition_mcocr_data')\n",
    "    train_file = os.path.join(data_dir, 'text_recognition_train_data.txt')\n",
    "    val_file = os.path.join(data_dir, 'text_recognition_val_data.txt')\n",
    "    \n",
    "    output_dir = 'output'\n",
    "    os.makedirs(output_dir, exist_ok=True)\n",
    "    \n",
    "    if not os.path.exists(images_dir):\n",
    "        print(f\"Thư mục ảnh không tồn tại: {images_dir}\")\n",
    "        return\n",
    "    if not os.path.exists(train_file):\n",
    "        print(f\"File train không tồn tại: {train_file}\")\n",
    "        return\n",
    "    if not os.path.exists(val_file):\n",
    "        print(f\"File validation không tồn tại: {val_file}\")\n",
    "        return\n",
    "    \n",
    "    tokenizer = SimpleTokenizer()\n",
    "    \n",
    "    train_dataset = VietnameseOCRDataset(\n",
    "        images_dir=images_dir,\n",
    "        annotation_file=train_file,\n",
    "        tokenizer=tokenizer,\n",
    "        transform=get_ocr_transforms(height=32, width=320, is_train=True),\n",
    "        preprocess=True,\n",
    "        adaptive_threshold=False,\n",
    "        max_target_length=100\n",
    "    )\n",
    "    \n",
    "    val_dataset = VietnameseOCRDataset(\n",
    "        images_dir=images_dir,\n",
    "        annotation_file=val_file,\n",
    "        tokenizer=tokenizer,\n",
    "        transform=get_ocr_transforms(height=32, width=320, is_train=False),\n",
    "        preprocess=True,\n",
    "        adaptive_threshold=False,\n",
    "        max_target_length=100\n",
    "    )\n",
    "    \n",
    "    train_loader = DataLoader(\n",
    "        train_dataset,\n",
    "        batch_size=16,\n",
    "        shuffle=True,\n",
    "        num_workers=0,\n",
    "        pin_memory=True if torch.cuda.is_available() else False,\n",
    "        collate_fn=collate_fn\n",
    "    )\n",
    "    \n",
    "    val_loader = DataLoader(\n",
    "        val_dataset,\n",
    "        batch_size=16,\n",
    "        shuffle=False,\n",
    "        num_workers=0,\n",
    "        pin_memory=True if torch.cuda.is_available() else False,\n",
    "        collate_fn=collate_fn\n",
    "    )\n",
    "    \n",
    "    model = CNNTransformerDecoder(\n",
    "        vocab_size=tokenizer.vocab_size,\n",
    "        input_channels=3,\n",
    "        hidden_dim=256,\n",
    "        nhead=4,\n",
    "        num_encoder_layers=3,\n",
    "        num_decoder_layers=3,\n",
    "        dim_feedforward=1024,\n",
    "        dropout=0.1\n",
    "    )\n",
    "    \n",
    "    model = model.to(device)\n",
    "    total_params = sum(p.numel() for p in model.parameters())\n",
    "    trainable_params = sum(p.numel() for p in model.parameters() if p.requires_grad)\n",
    "    print(f\"Tổng số tham số của mô hình: {total_params:,}\")\n",
    "    print(f\"Số tham số có thể train: {trainable_params:,}\")\n",
    "    \n",
    "    model, history = train_cnn_transformer_decoder(\n",
    "        model=model,\n",
    "        train_loader=train_loader,\n",
    "        val_loader=val_loader,\n",
    "        tokenizer=tokenizer,\n",
    "        output_dir=output_dir,\n",
    "        epochs=30,\n",
    "        lr=0.0005,\n",
    "        weight_decay=1e-5,\n",
    "        device=device,\n",
    "        patience=10\n",
    "    )\n",
    "    \n",
    "    checkpoint = torch.load(os.path.join(output_dir, 'best_model.pth'))\n",
    "    best_model = CNNTransformerDecoder(\n",
    "        vocab_size=tokenizer.vocab_size,\n",
    "        input_channels=3,\n",
    "        hidden_dim=256,\n",
    "        nhead=4,\n",
    "        num_encoder_layers=3,\n",
    "        num_decoder_layers=3,\n",
    "        dim_feedforward=1024,\n",
    "        dropout=0.1\n",
    "    )\n",
    "    \n",
    "    best_model.load_state_dict(checkpoint['model_state_dict'])\n",
    "    best_model = best_model.to(device)\n",
    "    \n",
    "    # Đánh giá mô hình tốt nhất\n",
    "    accuracy, cer, predictions, targets = evaluate(\n",
    "        best_model, val_loader, tokenizer, device, max_samples=200\n",
    "    )\n",
    "    \n",
    "    print(f\"\\nĐánh giá mô hình tốt nhất:\")\n",
    "    print(f\"Accuracy: {accuracy:.4f}, CER: {cer:.4f}\")\n",
    "    \n",
    "    print(\"Quá trình huấn luyện và đánh giá hoàn tất!\")\n",
    "\n",
    "if __name__ == \"__main__\":\n",
    "    main()"
   ]
  }
 ],
 "metadata": {
  "kaggle": {
   "accelerator": "nvidiaTeslaT4",
   "dataSources": [
    {
     "datasetId": 2035671,
     "sourceId": 3424966,
     "sourceType": "datasetVersion"
    }
   ],
   "dockerImageVersionId": 31011,
   "isGpuEnabled": true,
   "isInternetEnabled": true,
   "language": "python",
   "sourceType": "notebook"
  },
  "kernelspec": {
   "display_name": "Python 3",
   "language": "python",
   "name": "python3"
  },
  "language_info": {
   "codemirror_mode": {
    "name": "ipython",
    "version": 3
   },
   "file_extension": ".py",
   "mimetype": "text/x-python",
   "name": "python",
   "nbconvert_exporter": "python",
   "pygments_lexer": "ipython3",
   "version": "3.11.11"
  }
 },
 "nbformat": 4,
 "nbformat_minor": 4
}
